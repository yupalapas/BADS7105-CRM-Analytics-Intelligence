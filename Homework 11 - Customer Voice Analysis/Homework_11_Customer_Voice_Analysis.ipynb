{
  "nbformat": 4,
  "nbformat_minor": 0,
  "metadata": {
    "colab": {
      "name": "็Homework 11 - Customer Voice Analysis.ipynb",
      "provenance": []
    },
    "kernelspec": {
      "name": "python3",
      "display_name": "Python 3"
    },
    "language_info": {
      "name": "python"
    }
  },
  "cells": [
    {
      "cell_type": "code",
      "metadata": {
        "colab": {
          "base_uri": "https://localhost:8080/",
          "height": 1000
        },
        "id": "LpmF8VMZ1WZz",
        "outputId": "84f001f3-a94c-419a-8f28-97d2aa2620e3"
      },
      "source": [
        "!pip install --upgrade pythainlp\n",
        "!pip install pyLDAvis\n",
        "!pip install -U pandas-profiling\n",
        "!pip install sefr_cut"
      ],
      "execution_count": null,
      "outputs": [
        {
          "output_type": "stream",
          "text": [
            "Collecting pythainlp\n",
            "\u001b[?25l  Downloading https://files.pythonhosted.org/packages/6e/e7/837dd9ab52fac889af830dc094a1598251f70004a2f1707ab0ff8dc0f63a/pythainlp-2.3.1-py3-none-any.whl (11.0MB)\n",
            "\u001b[K     |████████████████████████████████| 11.0MB 2.1MB/s \n",
            "\u001b[?25hRequirement already satisfied, skipping upgrade: requests>=2.22.0 in /usr/local/lib/python3.7/dist-packages (from pythainlp) (2.23.0)\n",
            "Collecting python-crfsuite>=0.9.6\n",
            "\u001b[?25l  Downloading https://files.pythonhosted.org/packages/79/47/58f16c46506139f17de4630dbcfb877ce41a6355a1bbf3c443edb9708429/python_crfsuite-0.9.7-cp37-cp37m-manylinux1_x86_64.whl (743kB)\n",
            "\u001b[K     |████████████████████████████████| 747kB 28.9MB/s \n",
            "\u001b[?25hCollecting tinydb>=3.0\n",
            "  Downloading https://files.pythonhosted.org/packages/af/cd/1ce3d93818cdeda0446b8033d21e5f32daeb3a866bbafd878a9a62058a9c/tinydb-4.4.0-py3-none-any.whl\n",
            "Requirement already satisfied, skipping upgrade: chardet<4,>=3.0.2 in /usr/local/lib/python3.7/dist-packages (from requests>=2.22.0->pythainlp) (3.0.4)\n",
            "Requirement already satisfied, skipping upgrade: certifi>=2017.4.17 in /usr/local/lib/python3.7/dist-packages (from requests>=2.22.0->pythainlp) (2020.12.5)\n",
            "Requirement already satisfied, skipping upgrade: idna<3,>=2.5 in /usr/local/lib/python3.7/dist-packages (from requests>=2.22.0->pythainlp) (2.10)\n",
            "Requirement already satisfied, skipping upgrade: urllib3!=1.25.0,!=1.25.1,<1.26,>=1.21.1 in /usr/local/lib/python3.7/dist-packages (from requests>=2.22.0->pythainlp) (1.24.3)\n",
            "Installing collected packages: python-crfsuite, tinydb, pythainlp\n",
            "Successfully installed pythainlp-2.3.1 python-crfsuite-0.9.7 tinydb-4.4.0\n",
            "Collecting pyLDAvis\n",
            "\u001b[?25l  Downloading https://files.pythonhosted.org/packages/03/a5/15a0da6b0150b8b68610cc78af80364a80a9a4c8b6dd5ee549b8989d4b60/pyLDAvis-3.3.1.tar.gz (1.7MB)\n",
            "\u001b[K     |████████████████████████████████| 1.7MB 3.0MB/s \n",
            "\u001b[?25h  Installing build dependencies ... \u001b[?25l\u001b[?25hdone\n",
            "  Getting requirements to build wheel ... \u001b[?25l\u001b[?25hdone\n",
            "  Installing backend dependencies ... \u001b[?25l\u001b[?25hdone\n",
            "    Preparing wheel metadata ... \u001b[?25l\u001b[?25hdone\n",
            "Collecting pandas>=1.2.0\n",
            "\u001b[?25l  Downloading https://files.pythonhosted.org/packages/51/51/48f3fc47c4e2144da2806dfb6629c4dd1fa3d5a143f9652b141e979a8ca9/pandas-1.2.4-cp37-cp37m-manylinux1_x86_64.whl (9.9MB)\n",
            "\u001b[K     |████████████████████████████████| 9.9MB 31.6MB/s \n",
            "\u001b[?25hRequirement already satisfied: sklearn in /usr/local/lib/python3.7/dist-packages (from pyLDAvis) (0.0)\n",
            "Requirement already satisfied: gensim in /usr/local/lib/python3.7/dist-packages (from pyLDAvis) (3.6.0)\n",
            "Requirement already satisfied: scikit-learn in /usr/local/lib/python3.7/dist-packages (from pyLDAvis) (0.22.2.post1)\n",
            "Requirement already satisfied: setuptools in /usr/local/lib/python3.7/dist-packages (from pyLDAvis) (56.1.0)\n",
            "Requirement already satisfied: numexpr in /usr/local/lib/python3.7/dist-packages (from pyLDAvis) (2.7.3)\n",
            "Requirement already satisfied: scipy in /usr/local/lib/python3.7/dist-packages (from pyLDAvis) (1.4.1)\n",
            "Collecting numpy>=1.20.0\n",
            "\u001b[?25l  Downloading https://files.pythonhosted.org/packages/a5/42/560d269f604d3e186a57c21a363e77e199358d054884e61b73e405dd217c/numpy-1.20.3-cp37-cp37m-manylinux_2_12_x86_64.manylinux2010_x86_64.whl (15.3MB)\n",
            "\u001b[K     |████████████████████████████████| 15.3MB 275kB/s \n",
            "\u001b[?25hRequirement already satisfied: jinja2 in /usr/local/lib/python3.7/dist-packages (from pyLDAvis) (2.11.3)\n",
            "Collecting funcy\n",
            "  Downloading https://files.pythonhosted.org/packages/44/52/5cf7401456a461e4b481650dfb8279bc000f31a011d0918904f86e755947/funcy-1.16-py2.py3-none-any.whl\n",
            "Requirement already satisfied: joblib in /usr/local/lib/python3.7/dist-packages (from pyLDAvis) (1.0.1)\n",
            "Requirement already satisfied: future in /usr/local/lib/python3.7/dist-packages (from pyLDAvis) (0.16.0)\n",
            "Requirement already satisfied: python-dateutil>=2.7.3 in /usr/local/lib/python3.7/dist-packages (from pandas>=1.2.0->pyLDAvis) (2.8.1)\n",
            "Requirement already satisfied: pytz>=2017.3 in /usr/local/lib/python3.7/dist-packages (from pandas>=1.2.0->pyLDAvis) (2018.9)\n",
            "Requirement already satisfied: smart-open>=1.2.1 in /usr/local/lib/python3.7/dist-packages (from gensim->pyLDAvis) (5.0.0)\n",
            "Requirement already satisfied: six>=1.5.0 in /usr/local/lib/python3.7/dist-packages (from gensim->pyLDAvis) (1.15.0)\n",
            "Requirement already satisfied: MarkupSafe>=0.23 in /usr/local/lib/python3.7/dist-packages (from jinja2->pyLDAvis) (2.0.1)\n",
            "Building wheels for collected packages: pyLDAvis\n",
            "  Building wheel for pyLDAvis (PEP 517) ... \u001b[?25l\u001b[?25hdone\n",
            "  Created wheel for pyLDAvis: filename=pyLDAvis-3.3.1-cp37-none-any.whl size=136870 sha256=f92266829d7cadafe1ed7a50b10ee75126df5de33d8823f61d05a24b32993c9a\n",
            "  Stored in directory: /root/.cache/pip/wheels/a0/9c/fc/c6e00689d35c82cf96a8adc70edfe7ba7904374fdac3240ac2\n",
            "Successfully built pyLDAvis\n",
            "\u001b[31mERROR: tensorflow 2.5.0 has requirement numpy~=1.19.2, but you'll have numpy 1.20.3 which is incompatible.\u001b[0m\n",
            "\u001b[31mERROR: google-colab 1.0.0 has requirement pandas~=1.1.0; python_version >= \"3.0\", but you'll have pandas 1.2.4 which is incompatible.\u001b[0m\n",
            "\u001b[31mERROR: datascience 0.10.6 has requirement folium==0.2.1, but you'll have folium 0.8.3 which is incompatible.\u001b[0m\n",
            "\u001b[31mERROR: albumentations 0.1.12 has requirement imgaug<0.2.7,>=0.2.5, but you'll have imgaug 0.2.9 which is incompatible.\u001b[0m\n",
            "Installing collected packages: numpy, pandas, funcy, pyLDAvis\n",
            "  Found existing installation: numpy 1.19.5\n",
            "    Uninstalling numpy-1.19.5:\n",
            "      Successfully uninstalled numpy-1.19.5\n",
            "  Found existing installation: pandas 1.1.5\n",
            "    Uninstalling pandas-1.1.5:\n",
            "      Successfully uninstalled pandas-1.1.5\n",
            "Successfully installed funcy-1.16 numpy-1.20.3 pandas-1.2.4 pyLDAvis-3.3.1\n"
          ],
          "name": "stdout"
        },
        {
          "output_type": "display_data",
          "data": {
            "application/vnd.colab-display-data+json": {
              "pip_warning": {
                "packages": [
                  "numpy",
                  "pandas"
                ]
              }
            }
          },
          "metadata": {
            "tags": []
          }
        },
        {
          "output_type": "stream",
          "text": [
            "Collecting pandas-profiling\n",
            "\u001b[?25l  Downloading https://files.pythonhosted.org/packages/3b/a3/34519d16e5ebe69bad30c5526deea2c3912634ced7f9b5e6e0bb9dbbd567/pandas_profiling-3.0.0-py2.py3-none-any.whl (248kB)\n",
            "\u001b[K     |████████████████████████████████| 256kB 2.8MB/s \n",
            "\u001b[?25hRequirement already satisfied, skipping upgrade: pandas!=1.0.0,!=1.0.1,!=1.0.2,!=1.1.0,>=0.25.3 in /usr/local/lib/python3.7/dist-packages (from pandas-profiling) (1.2.4)\n",
            "Collecting PyYAML>=5.0.0\n",
            "\u001b[?25l  Downloading https://files.pythonhosted.org/packages/7a/a5/393c087efdc78091afa2af9f1378762f9821c9c1d7a22c5753fb5ac5f97a/PyYAML-5.4.1-cp37-cp37m-manylinux1_x86_64.whl (636kB)\n",
            "\u001b[K     |████████████████████████████████| 645kB 7.5MB/s \n",
            "\u001b[?25hRequirement already satisfied, skipping upgrade: numpy>=1.16.0 in /usr/local/lib/python3.7/dist-packages (from pandas-profiling) (1.20.3)\n",
            "Requirement already satisfied, skipping upgrade: matplotlib>=3.2.0 in /usr/local/lib/python3.7/dist-packages (from pandas-profiling) (3.2.2)\n",
            "Requirement already satisfied, skipping upgrade: seaborn>=0.10.1 in /usr/local/lib/python3.7/dist-packages (from pandas-profiling) (0.11.1)\n",
            "Requirement already satisfied, skipping upgrade: scipy>=1.4.1 in /usr/local/lib/python3.7/dist-packages (from pandas-profiling) (1.4.1)\n",
            "Requirement already satisfied, skipping upgrade: joblib in /usr/local/lib/python3.7/dist-packages (from pandas-profiling) (1.0.1)\n",
            "Requirement already satisfied, skipping upgrade: jinja2>=2.11.1 in /usr/local/lib/python3.7/dist-packages (from pandas-profiling) (2.11.3)\n",
            "Collecting requests>=2.24.0\n",
            "\u001b[?25l  Downloading https://files.pythonhosted.org/packages/29/c1/24814557f1d22c56d50280771a17307e6bf87b70727d975fd6b2ce6b014a/requests-2.25.1-py2.py3-none-any.whl (61kB)\n",
            "\u001b[K     |████████████████████████████████| 61kB 4.6MB/s \n",
            "\u001b[?25hCollecting phik>=0.11.1\n",
            "\u001b[?25l  Downloading https://files.pythonhosted.org/packages/b7/ce/193e8ddf62d4be643b9b4b20e8e9c63b2f6a20f92778c0410c629f89bdaa/phik-0.11.2.tar.gz (1.1MB)\n",
            "\u001b[K     |████████████████████████████████| 1.1MB 9.3MB/s \n",
            "\u001b[?25hCollecting tqdm>=4.48.2\n",
            "\u001b[?25l  Downloading https://files.pythonhosted.org/packages/42/d7/f357d98e9b50346bcb6095fe3ad205d8db3174eb5edb03edfe7c4099576d/tqdm-4.61.0-py2.py3-none-any.whl (75kB)\n",
            "\u001b[K     |████████████████████████████████| 81kB 6.7MB/s \n",
            "\u001b[?25hCollecting tangled-up-in-unicode==0.1.0\n",
            "\u001b[?25l  Downloading https://files.pythonhosted.org/packages/93/3e/cb354fb2097fcf2fd5b5a342b10ae2a6e9363ba435b64e3e00c414064bc7/tangled_up_in_unicode-0.1.0-py3-none-any.whl (3.1MB)\n",
            "\u001b[K     |████████████████████████████████| 3.1MB 12.2MB/s \n",
            "\u001b[?25hRequirement already satisfied, skipping upgrade: missingno>=0.4.2 in /usr/local/lib/python3.7/dist-packages (from pandas-profiling) (0.4.2)\n",
            "Collecting htmlmin>=0.1.12\n",
            "  Downloading https://files.pythonhosted.org/packages/b3/e7/fcd59e12169de19f0131ff2812077f964c6b960e7c09804d30a7bf2ab461/htmlmin-0.1.12.tar.gz\n",
            "Collecting pydantic>=1.8.1\n",
            "\u001b[?25l  Downloading https://files.pythonhosted.org/packages/9f/f2/2d5425efe57f6c4e06cbe5e587c1fd16929dcf0eb90bd4d3d1e1c97d1151/pydantic-1.8.2-cp37-cp37m-manylinux2014_x86_64.whl (10.1MB)\n",
            "\u001b[K     |████████████████████████████████| 10.1MB 18.3MB/s \n",
            "\u001b[?25hCollecting visions[type_image_path]==0.7.1\n",
            "\u001b[?25l  Downloading https://files.pythonhosted.org/packages/80/96/01e4ba22cef96ae5035dbcf0451c2f4f859f8f17393b98406b23f0034279/visions-0.7.1-py3-none-any.whl (102kB)\n",
            "\u001b[K     |████████████████████████████████| 112kB 47.2MB/s \n",
            "\u001b[?25hRequirement already satisfied, skipping upgrade: pytz>=2017.3 in /usr/local/lib/python3.7/dist-packages (from pandas!=1.0.0,!=1.0.1,!=1.0.2,!=1.1.0,>=0.25.3->pandas-profiling) (2018.9)\n",
            "Requirement already satisfied, skipping upgrade: python-dateutil>=2.7.3 in /usr/local/lib/python3.7/dist-packages (from pandas!=1.0.0,!=1.0.1,!=1.0.2,!=1.1.0,>=0.25.3->pandas-profiling) (2.8.1)\n",
            "Requirement already satisfied, skipping upgrade: pyparsing!=2.0.4,!=2.1.2,!=2.1.6,>=2.0.1 in /usr/local/lib/python3.7/dist-packages (from matplotlib>=3.2.0->pandas-profiling) (2.4.7)\n",
            "Requirement already satisfied, skipping upgrade: cycler>=0.10 in /usr/local/lib/python3.7/dist-packages (from matplotlib>=3.2.0->pandas-profiling) (0.10.0)\n",
            "Requirement already satisfied, skipping upgrade: kiwisolver>=1.0.1 in /usr/local/lib/python3.7/dist-packages (from matplotlib>=3.2.0->pandas-profiling) (1.3.1)\n",
            "Requirement already satisfied, skipping upgrade: MarkupSafe>=0.23 in /usr/local/lib/python3.7/dist-packages (from jinja2>=2.11.1->pandas-profiling) (2.0.1)\n",
            "Requirement already satisfied, skipping upgrade: chardet<5,>=3.0.2 in /usr/local/lib/python3.7/dist-packages (from requests>=2.24.0->pandas-profiling) (3.0.4)\n",
            "Requirement already satisfied, skipping upgrade: idna<3,>=2.5 in /usr/local/lib/python3.7/dist-packages (from requests>=2.24.0->pandas-profiling) (2.10)\n",
            "Requirement already satisfied, skipping upgrade: urllib3<1.27,>=1.21.1 in /usr/local/lib/python3.7/dist-packages (from requests>=2.24.0->pandas-profiling) (1.24.3)\n",
            "Requirement already satisfied, skipping upgrade: certifi>=2017.4.17 in /usr/local/lib/python3.7/dist-packages (from requests>=2.24.0->pandas-profiling) (2020.12.5)\n",
            "Requirement already satisfied, skipping upgrade: typing-extensions>=3.7.4.3 in /usr/local/lib/python3.7/dist-packages (from pydantic>=1.8.1->pandas-profiling) (3.7.4.3)\n",
            "Requirement already satisfied, skipping upgrade: attrs>=19.3.0 in /usr/local/lib/python3.7/dist-packages (from visions[type_image_path]==0.7.1->pandas-profiling) (21.2.0)\n",
            "Requirement already satisfied, skipping upgrade: bottleneck in /usr/local/lib/python3.7/dist-packages (from visions[type_image_path]==0.7.1->pandas-profiling) (1.3.2)\n",
            "Collecting multimethod==1.4\n",
            "  Downloading https://files.pythonhosted.org/packages/7a/d0/ce5ad0392aa12645b7ad91a5983d6b625b704b021d9cd48c587630c1a9ac/multimethod-1.4-py2.py3-none-any.whl\n",
            "Requirement already satisfied, skipping upgrade: networkx>=2.4 in /usr/local/lib/python3.7/dist-packages (from visions[type_image_path]==0.7.1->pandas-profiling) (2.5.1)\n",
            "Collecting imagehash; extra == \"type_image_path\"\n",
            "\u001b[?25l  Downloading https://files.pythonhosted.org/packages/8e/18/9dbb772b5ef73a3069c66bb5bf29b9fb4dd57af0d5790c781c3f559bcca6/ImageHash-4.2.0-py2.py3-none-any.whl (295kB)\n",
            "\u001b[K     |████████████████████████████████| 296kB 43.8MB/s \n",
            "\u001b[?25hRequirement already satisfied, skipping upgrade: Pillow; extra == \"type_image_path\" in /usr/local/lib/python3.7/dist-packages (from visions[type_image_path]==0.7.1->pandas-profiling) (7.1.2)\n",
            "Requirement already satisfied, skipping upgrade: six>=1.5 in /usr/local/lib/python3.7/dist-packages (from python-dateutil>=2.7.3->pandas!=1.0.0,!=1.0.1,!=1.0.2,!=1.1.0,>=0.25.3->pandas-profiling) (1.15.0)\n",
            "Requirement already satisfied, skipping upgrade: decorator<5,>=4.3 in /usr/local/lib/python3.7/dist-packages (from networkx>=2.4->visions[type_image_path]==0.7.1->pandas-profiling) (4.4.2)\n",
            "Requirement already satisfied, skipping upgrade: PyWavelets in /usr/local/lib/python3.7/dist-packages (from imagehash; extra == \"type_image_path\"->visions[type_image_path]==0.7.1->pandas-profiling) (1.1.1)\n",
            "Building wheels for collected packages: phik, htmlmin\n",
            "  Building wheel for phik (setup.py) ... \u001b[?25l\u001b[?25hdone\n",
            "  Created wheel for phik: filename=phik-0.11.2-cp37-none-any.whl size=1107413 sha256=4633becdad60a995dbf1126e6fc153245e1e8398d377de3f817255c7a3a53c0f\n",
            "  Stored in directory: /root/.cache/pip/wheels/c0/a3/b0/f27b1cfe32ea131a3715169132ff6d85653789e80e966c3bf6\n",
            "  Building wheel for htmlmin (setup.py) ... \u001b[?25l\u001b[?25hdone\n",
            "  Created wheel for htmlmin: filename=htmlmin-0.1.12-cp37-none-any.whl size=27085 sha256=7b02d524a13631a1a4e26eb005c8d5523372f48098b27dd503bf88e6516e9850\n",
            "  Stored in directory: /root/.cache/pip/wheels/43/07/ac/7c5a9d708d65247ac1f94066cf1db075540b85716c30255459\n",
            "Successfully built phik htmlmin\n",
            "\u001b[31mERROR: google-colab 1.0.0 has requirement pandas~=1.1.0; python_version >= \"3.0\", but you'll have pandas 1.2.4 which is incompatible.\u001b[0m\n",
            "\u001b[31mERROR: google-colab 1.0.0 has requirement requests~=2.23.0, but you'll have requests 2.25.1 which is incompatible.\u001b[0m\n",
            "\u001b[31mERROR: datascience 0.10.6 has requirement folium==0.2.1, but you'll have folium 0.8.3 which is incompatible.\u001b[0m\n",
            "\u001b[31mERROR: phik 0.11.2 has requirement scipy>=1.5.2, but you'll have scipy 1.4.1 which is incompatible.\u001b[0m\n",
            "Installing collected packages: PyYAML, requests, phik, tqdm, tangled-up-in-unicode, htmlmin, pydantic, multimethod, imagehash, visions, pandas-profiling\n",
            "  Found existing installation: PyYAML 3.13\n",
            "    Uninstalling PyYAML-3.13:\n",
            "      Successfully uninstalled PyYAML-3.13\n",
            "  Found existing installation: requests 2.23.0\n",
            "    Uninstalling requests-2.23.0:\n",
            "      Successfully uninstalled requests-2.23.0\n",
            "  Found existing installation: tqdm 4.41.1\n",
            "    Uninstalling tqdm-4.41.1:\n",
            "      Successfully uninstalled tqdm-4.41.1\n",
            "  Found existing installation: pandas-profiling 1.4.1\n",
            "    Uninstalling pandas-profiling-1.4.1:\n",
            "      Successfully uninstalled pandas-profiling-1.4.1\n",
            "Successfully installed PyYAML-5.4.1 htmlmin-0.1.12 imagehash-4.2.0 multimethod-1.4 pandas-profiling-3.0.0 phik-0.11.2 pydantic-1.8.2 requests-2.25.1 tangled-up-in-unicode-0.1.0 tqdm-4.61.0 visions-0.7.1\n",
            "Collecting sefr_cut\n",
            "\u001b[?25l  Downloading https://files.pythonhosted.org/packages/7b/34/9d8e8e917baebabe350f387b84d1658ac16af19b284bda347373739a3726/SEFR_CUT-1.1-py3-none-any.whl (8.7MB)\n",
            "\u001b[K     |████████████████████████████████| 8.7MB 2.9MB/s \n",
            "\u001b[?25hRequirement already satisfied: numpy in /usr/local/lib/python3.7/dist-packages (from sefr_cut) (1.20.3)\n",
            "Requirement already satisfied: pandas in /usr/local/lib/python3.7/dist-packages (from sefr_cut) (1.2.4)\n",
            "Requirement already satisfied: python-crfsuite in /usr/local/lib/python3.7/dist-packages (from sefr_cut) (0.9.7)\n",
            "Requirement already satisfied: scikit-learn in /usr/local/lib/python3.7/dist-packages (from sefr_cut) (0.22.2.post1)\n",
            "Collecting pyahocorasick\n",
            "\u001b[?25l  Downloading https://files.pythonhosted.org/packages/7f/c2/eae730037ae1cbbfaa229d27030d1d5e34a1e41114b21447d1202ae9c220/pyahocorasick-1.4.2.tar.gz (321kB)\n",
            "\u001b[K     |████████████████████████████████| 327kB 38.3MB/s \n",
            "\u001b[?25hRequirement already satisfied: scipy in /usr/local/lib/python3.7/dist-packages (from sefr_cut) (1.4.1)\n",
            "Requirement already satisfied: tensorflow>=2.0.0 in /usr/local/lib/python3.7/dist-packages (from sefr_cut) (2.5.0)\n",
            "Requirement already satisfied: python-dateutil>=2.7.3 in /usr/local/lib/python3.7/dist-packages (from pandas->sefr_cut) (2.8.1)\n",
            "Requirement already satisfied: pytz>=2017.3 in /usr/local/lib/python3.7/dist-packages (from pandas->sefr_cut) (2018.9)\n",
            "Requirement already satisfied: joblib>=0.11 in /usr/local/lib/python3.7/dist-packages (from scikit-learn->sefr_cut) (1.0.1)\n",
            "Requirement already satisfied: wrapt~=1.12.1 in /usr/local/lib/python3.7/dist-packages (from tensorflow>=2.0.0->sefr_cut) (1.12.1)\n",
            "Requirement already satisfied: wheel~=0.35 in /usr/local/lib/python3.7/dist-packages (from tensorflow>=2.0.0->sefr_cut) (0.36.2)\n",
            "Requirement already satisfied: six~=1.15.0 in /usr/local/lib/python3.7/dist-packages (from tensorflow>=2.0.0->sefr_cut) (1.15.0)\n",
            "Requirement already satisfied: h5py~=3.1.0 in /usr/local/lib/python3.7/dist-packages (from tensorflow>=2.0.0->sefr_cut) (3.1.0)\n",
            "Requirement already satisfied: keras-nightly~=2.5.0.dev in /usr/local/lib/python3.7/dist-packages (from tensorflow>=2.0.0->sefr_cut) (2.5.0.dev2021032900)\n",
            "Requirement already satisfied: grpcio~=1.34.0 in /usr/local/lib/python3.7/dist-packages (from tensorflow>=2.0.0->sefr_cut) (1.34.1)\n",
            "Requirement already satisfied: absl-py~=0.10 in /usr/local/lib/python3.7/dist-packages (from tensorflow>=2.0.0->sefr_cut) (0.12.0)\n",
            "Requirement already satisfied: flatbuffers~=1.12.0 in /usr/local/lib/python3.7/dist-packages (from tensorflow>=2.0.0->sefr_cut) (1.12)\n",
            "Requirement already satisfied: tensorflow-estimator<2.6.0,>=2.5.0rc0 in /usr/local/lib/python3.7/dist-packages (from tensorflow>=2.0.0->sefr_cut) (2.5.0)\n",
            "Requirement already satisfied: opt-einsum~=3.3.0 in /usr/local/lib/python3.7/dist-packages (from tensorflow>=2.0.0->sefr_cut) (3.3.0)\n",
            "Requirement already satisfied: keras-preprocessing~=1.1.2 in /usr/local/lib/python3.7/dist-packages (from tensorflow>=2.0.0->sefr_cut) (1.1.2)\n",
            "Requirement already satisfied: typing-extensions~=3.7.4 in /usr/local/lib/python3.7/dist-packages (from tensorflow>=2.0.0->sefr_cut) (3.7.4.3)\n",
            "Requirement already satisfied: google-pasta~=0.2 in /usr/local/lib/python3.7/dist-packages (from tensorflow>=2.0.0->sefr_cut) (0.2.0)\n",
            "Requirement already satisfied: termcolor~=1.1.0 in /usr/local/lib/python3.7/dist-packages (from tensorflow>=2.0.0->sefr_cut) (1.1.0)\n",
            "Requirement already satisfied: astunparse~=1.6.3 in /usr/local/lib/python3.7/dist-packages (from tensorflow>=2.0.0->sefr_cut) (1.6.3)\n",
            "Requirement already satisfied: tensorboard~=2.5 in /usr/local/lib/python3.7/dist-packages (from tensorflow>=2.0.0->sefr_cut) (2.5.0)\n",
            "Requirement already satisfied: gast==0.4.0 in /usr/local/lib/python3.7/dist-packages (from tensorflow>=2.0.0->sefr_cut) (0.4.0)\n",
            "Requirement already satisfied: protobuf>=3.9.2 in /usr/local/lib/python3.7/dist-packages (from tensorflow>=2.0.0->sefr_cut) (3.12.4)\n",
            "Requirement already satisfied: cached-property; python_version < \"3.8\" in /usr/local/lib/python3.7/dist-packages (from h5py~=3.1.0->tensorflow>=2.0.0->sefr_cut) (1.5.2)\n",
            "Requirement already satisfied: requests<3,>=2.21.0 in /usr/local/lib/python3.7/dist-packages (from tensorboard~=2.5->tensorflow>=2.0.0->sefr_cut) (2.25.1)\n",
            "Requirement already satisfied: tensorboard-plugin-wit>=1.6.0 in /usr/local/lib/python3.7/dist-packages (from tensorboard~=2.5->tensorflow>=2.0.0->sefr_cut) (1.8.0)\n",
            "Requirement already satisfied: markdown>=2.6.8 in /usr/local/lib/python3.7/dist-packages (from tensorboard~=2.5->tensorflow>=2.0.0->sefr_cut) (3.3.4)\n",
            "Requirement already satisfied: google-auth-oauthlib<0.5,>=0.4.1 in /usr/local/lib/python3.7/dist-packages (from tensorboard~=2.5->tensorflow>=2.0.0->sefr_cut) (0.4.4)\n",
            "Requirement already satisfied: setuptools>=41.0.0 in /usr/local/lib/python3.7/dist-packages (from tensorboard~=2.5->tensorflow>=2.0.0->sefr_cut) (56.1.0)\n",
            "Requirement already satisfied: werkzeug>=0.11.15 in /usr/local/lib/python3.7/dist-packages (from tensorboard~=2.5->tensorflow>=2.0.0->sefr_cut) (1.0.1)\n",
            "Requirement already satisfied: tensorboard-data-server<0.7.0,>=0.6.0 in /usr/local/lib/python3.7/dist-packages (from tensorboard~=2.5->tensorflow>=2.0.0->sefr_cut) (0.6.1)\n",
            "Requirement already satisfied: google-auth<2,>=1.6.3 in /usr/local/lib/python3.7/dist-packages (from tensorboard~=2.5->tensorflow>=2.0.0->sefr_cut) (1.30.0)\n",
            "Requirement already satisfied: chardet<5,>=3.0.2 in /usr/local/lib/python3.7/dist-packages (from requests<3,>=2.21.0->tensorboard~=2.5->tensorflow>=2.0.0->sefr_cut) (3.0.4)\n",
            "Requirement already satisfied: urllib3<1.27,>=1.21.1 in /usr/local/lib/python3.7/dist-packages (from requests<3,>=2.21.0->tensorboard~=2.5->tensorflow>=2.0.0->sefr_cut) (1.24.3)\n",
            "Requirement already satisfied: idna<3,>=2.5 in /usr/local/lib/python3.7/dist-packages (from requests<3,>=2.21.0->tensorboard~=2.5->tensorflow>=2.0.0->sefr_cut) (2.10)\n",
            "Requirement already satisfied: certifi>=2017.4.17 in /usr/local/lib/python3.7/dist-packages (from requests<3,>=2.21.0->tensorboard~=2.5->tensorflow>=2.0.0->sefr_cut) (2020.12.5)\n",
            "Requirement already satisfied: importlib-metadata; python_version < \"3.8\" in /usr/local/lib/python3.7/dist-packages (from markdown>=2.6.8->tensorboard~=2.5->tensorflow>=2.0.0->sefr_cut) (4.0.1)\n",
            "Requirement already satisfied: requests-oauthlib>=0.7.0 in /usr/local/lib/python3.7/dist-packages (from google-auth-oauthlib<0.5,>=0.4.1->tensorboard~=2.5->tensorflow>=2.0.0->sefr_cut) (1.3.0)\n",
            "Requirement already satisfied: cachetools<5.0,>=2.0.0 in /usr/local/lib/python3.7/dist-packages (from google-auth<2,>=1.6.3->tensorboard~=2.5->tensorflow>=2.0.0->sefr_cut) (4.2.2)\n",
            "Requirement already satisfied: pyasn1-modules>=0.2.1 in /usr/local/lib/python3.7/dist-packages (from google-auth<2,>=1.6.3->tensorboard~=2.5->tensorflow>=2.0.0->sefr_cut) (0.2.8)\n",
            "Requirement already satisfied: rsa<5,>=3.1.4; python_version >= \"3.6\" in /usr/local/lib/python3.7/dist-packages (from google-auth<2,>=1.6.3->tensorboard~=2.5->tensorflow>=2.0.0->sefr_cut) (4.7.2)\n",
            "Requirement already satisfied: zipp>=0.5 in /usr/local/lib/python3.7/dist-packages (from importlib-metadata; python_version < \"3.8\"->markdown>=2.6.8->tensorboard~=2.5->tensorflow>=2.0.0->sefr_cut) (3.4.1)\n",
            "Requirement already satisfied: oauthlib>=3.0.0 in /usr/local/lib/python3.7/dist-packages (from requests-oauthlib>=0.7.0->google-auth-oauthlib<0.5,>=0.4.1->tensorboard~=2.5->tensorflow>=2.0.0->sefr_cut) (3.1.0)\n",
            "Requirement already satisfied: pyasn1<0.5.0,>=0.4.6 in /usr/local/lib/python3.7/dist-packages (from pyasn1-modules>=0.2.1->google-auth<2,>=1.6.3->tensorboard~=2.5->tensorflow>=2.0.0->sefr_cut) (0.4.8)\n",
            "Building wheels for collected packages: pyahocorasick\n",
            "  Building wheel for pyahocorasick (setup.py) ... \u001b[?25l\u001b[?25hdone\n",
            "  Created wheel for pyahocorasick: filename=pyahocorasick-1.4.2-cp37-cp37m-linux_x86_64.whl size=85397 sha256=626c15caf01bfe305e17677032a0c52beadcc4f67afba77beccd1a20b3876c39\n",
            "  Stored in directory: /root/.cache/pip/wheels/3a/03/34/77e3ece0bba8b86bfac88a79f923b36d805cad63caeba38842\n",
            "Successfully built pyahocorasick\n",
            "Installing collected packages: pyahocorasick, sefr-cut\n",
            "Successfully installed pyahocorasick-1.4.2 sefr-cut-1.1\n"
          ],
          "name": "stdout"
        }
      ]
    },
    {
      "cell_type": "code",
      "metadata": {
        "colab": {
          "base_uri": "https://localhost:8080/"
        },
        "id": "XxDnDnso1bpE",
        "outputId": "3c28f917-8ef2-4c5b-9ad9-5b35958b8fd2"
      },
      "source": [
        "import pandas as pd\n",
        "import pythainlp\n",
        "import sefr_cut\n",
        "import gensim\n",
        "# import pyLDAvis.gensim\n",
        "import pyLDAvis\n",
        "import pyLDAvis.gensim_models as gensimvis\n",
        "pyLDAvis.enable_notebook()\n",
        "import warnings\n",
        "warnings.filterwarnings(\"ignore\", category=DeprecationWarning)"
      ],
      "execution_count": null,
      "outputs": [
        {
          "output_type": "stream",
          "text": [
            "/usr/local/lib/python3.7/dist-packages/past/types/oldstr.py:5: DeprecationWarning: Using or importing the ABCs from 'collections' instead of from 'collections.abc' is deprecated since Python 3.3,and in 3.9 it will stop working\n",
            "  from collections import Iterable\n",
            "/usr/local/lib/python3.7/dist-packages/sklearn/linear_model/_least_angle.py:30: DeprecationWarning: `np.float` is a deprecated alias for the builtin `float`. To silence this warning, use `float` by itself. Doing this will not modify any behavior and is safe. If you specifically wanted the numpy scalar type, use `np.float64` here.\n",
            "Deprecated in NumPy 1.20; for more details and guidance: https://numpy.org/devdocs/release/1.20.0-notes.html#deprecations\n",
            "  method='lar', copy_X=True, eps=np.finfo(np.float).eps,\n",
            "/usr/local/lib/python3.7/dist-packages/sklearn/linear_model/_least_angle.py:169: DeprecationWarning: `np.float` is a deprecated alias for the builtin `float`. To silence this warning, use `float` by itself. Doing this will not modify any behavior and is safe. If you specifically wanted the numpy scalar type, use `np.float64` here.\n",
            "Deprecated in NumPy 1.20; for more details and guidance: https://numpy.org/devdocs/release/1.20.0-notes.html#deprecations\n",
            "  method='lar', copy_X=True, eps=np.finfo(np.float).eps,\n",
            "/usr/local/lib/python3.7/dist-packages/sklearn/linear_model/_least_angle.py:286: DeprecationWarning: `np.float` is a deprecated alias for the builtin `float`. To silence this warning, use `float` by itself. Doing this will not modify any behavior and is safe. If you specifically wanted the numpy scalar type, use `np.float64` here.\n",
            "Deprecated in NumPy 1.20; for more details and guidance: https://numpy.org/devdocs/release/1.20.0-notes.html#deprecations\n",
            "  eps=np.finfo(np.float).eps, copy_Gram=True, verbose=0,\n",
            "/usr/local/lib/python3.7/dist-packages/sklearn/linear_model/_least_angle.py:858: DeprecationWarning: `np.float` is a deprecated alias for the builtin `float`. To silence this warning, use `float` by itself. Doing this will not modify any behavior and is safe. If you specifically wanted the numpy scalar type, use `np.float64` here.\n",
            "Deprecated in NumPy 1.20; for more details and guidance: https://numpy.org/devdocs/release/1.20.0-notes.html#deprecations\n",
            "  eps=np.finfo(np.float).eps, copy_X=True, fit_path=True):\n",
            "/usr/local/lib/python3.7/dist-packages/sklearn/linear_model/_least_angle.py:1094: DeprecationWarning: `np.float` is a deprecated alias for the builtin `float`. To silence this warning, use `float` by itself. Doing this will not modify any behavior and is safe. If you specifically wanted the numpy scalar type, use `np.float64` here.\n",
            "Deprecated in NumPy 1.20; for more details and guidance: https://numpy.org/devdocs/release/1.20.0-notes.html#deprecations\n",
            "  eps=np.finfo(np.float).eps, copy_X=True, fit_path=True,\n",
            "/usr/local/lib/python3.7/dist-packages/sklearn/linear_model/_least_angle.py:1120: DeprecationWarning: `np.float` is a deprecated alias for the builtin `float`. To silence this warning, use `float` by itself. Doing this will not modify any behavior and is safe. If you specifically wanted the numpy scalar type, use `np.float64` here.\n",
            "Deprecated in NumPy 1.20; for more details and guidance: https://numpy.org/devdocs/release/1.20.0-notes.html#deprecations\n",
            "  eps=np.finfo(np.float).eps, positive=False):\n",
            "/usr/local/lib/python3.7/dist-packages/sklearn/linear_model/_least_angle.py:1349: DeprecationWarning: `np.float` is a deprecated alias for the builtin `float`. To silence this warning, use `float` by itself. Doing this will not modify any behavior and is safe. If you specifically wanted the numpy scalar type, use `np.float64` here.\n",
            "Deprecated in NumPy 1.20; for more details and guidance: https://numpy.org/devdocs/release/1.20.0-notes.html#deprecations\n",
            "  max_n_alphas=1000, n_jobs=None, eps=np.finfo(np.float).eps,\n",
            "/usr/local/lib/python3.7/dist-packages/sklearn/linear_model/_least_angle.py:1590: DeprecationWarning: `np.float` is a deprecated alias for the builtin `float`. To silence this warning, use `float` by itself. Doing this will not modify any behavior and is safe. If you specifically wanted the numpy scalar type, use `np.float64` here.\n",
            "Deprecated in NumPy 1.20; for more details and guidance: https://numpy.org/devdocs/release/1.20.0-notes.html#deprecations\n",
            "  max_n_alphas=1000, n_jobs=None, eps=np.finfo(np.float).eps,\n",
            "/usr/local/lib/python3.7/dist-packages/sklearn/linear_model/_least_angle.py:1723: DeprecationWarning: `np.float` is a deprecated alias for the builtin `float`. To silence this warning, use `float` by itself. Doing this will not modify any behavior and is safe. If you specifically wanted the numpy scalar type, use `np.float64` here.\n",
            "Deprecated in NumPy 1.20; for more details and guidance: https://numpy.org/devdocs/release/1.20.0-notes.html#deprecations\n",
            "  eps=np.finfo(np.float).eps, copy_X=True, positive=False):\n",
            "/usr/local/lib/python3.7/dist-packages/sklearn/decomposition/_lda.py:29: DeprecationWarning: `np.float` is a deprecated alias for the builtin `float`. To silence this warning, use `float` by itself. Doing this will not modify any behavior and is safe. If you specifically wanted the numpy scalar type, use `np.float64` here.\n",
            "Deprecated in NumPy 1.20; for more details and guidance: https://numpy.org/devdocs/release/1.20.0-notes.html#deprecations\n",
            "  EPS = np.finfo(np.float).eps\n"
          ],
          "name": "stderr"
        }
      ]
    },
    {
      "cell_type": "code",
      "metadata": {
        "id": "xe2Q2lo51xV-"
      },
      "source": [
        "df = pd.read_csv('CustomerReviews.csv')"
      ],
      "execution_count": null,
      "outputs": []
    },
    {
      "cell_type": "code",
      "metadata": {
        "colab": {
          "base_uri": "https://localhost:8080/",
          "height": 363
        },
        "id": "QD7922Vj4Tqk",
        "outputId": "f15a7ceb-4723-4787-cb7b-fe41525baedf"
      },
      "source": [
        "df.head(5)"
      ],
      "execution_count": null,
      "outputs": [
        {
          "output_type": "execute_result",
          "data": {
            "text/html": [
              "<div>\n",
              "<style scoped>\n",
              "    .dataframe tbody tr th:only-of-type {\n",
              "        vertical-align: middle;\n",
              "    }\n",
              "\n",
              "    .dataframe tbody tr th {\n",
              "        vertical-align: top;\n",
              "    }\n",
              "\n",
              "    .dataframe thead th {\n",
              "        text-align: right;\n",
              "    }\n",
              "</style>\n",
              "<table border=\"1\" class=\"dataframe\">\n",
              "  <thead>\n",
              "    <tr style=\"text-align: right;\">\n",
              "      <th></th>\n",
              "      <th>Review ID</th>\n",
              "      <th>Restaurant_ID</th>\n",
              "      <th>Restaurant</th>\n",
              "      <th>User</th>\n",
              "      <th>Headline</th>\n",
              "      <th>Review</th>\n",
              "      <th>Rating</th>\n",
              "    </tr>\n",
              "  </thead>\n",
              "  <tbody>\n",
              "    <tr>\n",
              "      <th>0</th>\n",
              "      <td>1</td>\n",
              "      <td>352696Px-mo-mo-paradise-เดอะมอลล์-บางกะปิ</td>\n",
              "      <td>Mo-Mo-Paradise (โม โม พาราไดซ์) เดอะมอลล์ บางกะปิ</td>\n",
              "      <td>7b16469831074f7abc7824745ee75212</td>\n",
              "      <td>ที่สำคัญของร้านนี้คือบริการดีมากพนักงานน่ารักส...</td>\n",
              "      <td>ที่สำคัญของร้านนี้คือบริการดีมากพนักงานน่ารักส...</td>\n",
              "      <td>5.0</td>\n",
              "    </tr>\n",
              "    <tr>\n",
              "      <th>1</th>\n",
              "      <td>2</td>\n",
              "      <td>352696Px-mo-mo-paradise-เดอะมอลล์-บางกะปิ</td>\n",
              "      <td>Mo-Mo-Paradise (โม โม พาราไดซ์) เดอะมอลล์ บางกะปิ</td>\n",
              "      <td>pakkaramonpondej</td>\n",
              "      <td>รสชาติเหมือนทุกสาขา แต่สาขานี้ บริการดี ที่นั่งดี</td>\n",
              "      <td>นึกถึงชาบูญี่ปุ่นยังไงก็ต้อง คิดถึงโมโม่ พาราไ...</td>\n",
              "      <td>5.0</td>\n",
              "    </tr>\n",
              "    <tr>\n",
              "      <th>2</th>\n",
              "      <td>3</td>\n",
              "      <td>352696Px-mo-mo-paradise-เดอะมอลล์-บางกะปิ</td>\n",
              "      <td>Mo-Mo-Paradise (โม โม พาราไดซ์) เดอะมอลล์ บางกะปิ</td>\n",
              "      <td>saanowy</td>\n",
              "      <td>ชาบูพรีเมี่ยมสไตล์ญี่ปุ่น เนื้อดีมากกก</td>\n",
              "      <td>มาทานช่วงนี้ สามารถนั่งโต๊ะเดียวกัน หม้อเดียวก...</td>\n",
              "      <td>4.0</td>\n",
              "    </tr>\n",
              "    <tr>\n",
              "      <th>3</th>\n",
              "      <td>4</td>\n",
              "      <td>352696Px-mo-mo-paradise-เดอะมอลล์-บางกะปิ</td>\n",
              "      <td>Mo-Mo-Paradise (โม โม พาราไดซ์) เดอะมอลล์ บางกะปิ</td>\n",
              "      <td>ployynp</td>\n",
              "      <td>เนื้อดี ไอติมดี คุ้มค่าดี</td>\n",
              "      <td>ถ้านึกถึงชาบูที่มีเนื้อเน้นๆ ในราคาไม่โหดจนเกิ...</td>\n",
              "      <td>4.0</td>\n",
              "    </tr>\n",
              "    <tr>\n",
              "      <th>4</th>\n",
              "      <td>5</td>\n",
              "      <td>352696Px-mo-mo-paradise-เดอะมอลล์-บางกะปิ</td>\n",
              "      <td>Mo-Mo-Paradise (โม โม พาราไดซ์) เดอะมอลล์ บางกะปิ</td>\n",
              "      <td>665a902b335b434ab489f00f2fbb477e</td>\n",
              "      <td>อาหารมีคุณภาพ บริการดีค่ะ</td>\n",
              "      <td>เดินมาหน้าร้านแล้วได้กลิ่นชาบูหอมมาก ๆ  ประกอบ...</td>\n",
              "      <td>5.0</td>\n",
              "    </tr>\n",
              "  </tbody>\n",
              "</table>\n",
              "</div>"
            ],
            "text/plain": [
              "   Review ID  ... Rating\n",
              "0          1  ...    5.0\n",
              "1          2  ...    5.0\n",
              "2          3  ...    4.0\n",
              "3          4  ...    4.0\n",
              "4          5  ...    5.0\n",
              "\n",
              "[5 rows x 7 columns]"
            ]
          },
          "metadata": {
            "tags": []
          },
          "execution_count": 4
        }
      ]
    },
    {
      "cell_type": "markdown",
      "metadata": {
        "id": "8Y6tytxb4s1M"
      },
      "source": [
        "Tokenize Words"
      ]
    },
    {
      "cell_type": "code",
      "metadata": {
        "colab": {
          "base_uri": "https://localhost:8080/"
        },
        "id": "L8Ip2pNi4vCp",
        "outputId": "0dfdf100-bdbc-49e0-fb30-8a7246c0d500"
      },
      "source": [
        "stopwords = list(pythainlp.corpus.thai_stopwords())\n",
        "removed_words = [' ', '  ', '\\n','\\n\\n', 'ร้าน', '(', ')' , '           ','–', '!', '!!','-','/','+','😆','🤣','\"','','%','\\u200b','::']\n",
        "screening_words = stopwords + removed_words\n",
        "\n",
        "sefr_cut.load_model(engine='ws1000')\n",
        "def tokenize_with_space(sentence):\n",
        "  merged = ''\n",
        "  # words = pythainlp.word_tokenize(str(sentence), engine='newmm')\n",
        "  words = sefr_cut.tokenize(sentence)\n",
        "  for word in words[0]:\n",
        "    if word not in screening_words:\n",
        "      word = word.rstrip(\"\\n\")\n",
        "      word = word.rstrip(\"\\u200b\")\n",
        "      if word is None or word == ' ' or word == '' or word ==':':\n",
        "        continue\n",
        "      else: \n",
        "        merged = merged + ',' + word\n",
        "    elif word is None:\n",
        "      continue\n",
        "  return merged[1:]\n",
        "  \n",
        "  # return words"
      ],
      "execution_count": null,
      "outputs": [
        {
          "output_type": "stream",
          "text": [
            "loading model.....\n",
            "Success\n"
          ],
          "name": "stdout"
        }
      ]
    },
    {
      "cell_type": "code",
      "metadata": {
        "id": "BIC5dm0w414Y"
      },
      "source": [
        "df['Review_tokenized'] = df['Review'].apply(lambda x: tokenize_with_space(x))"
      ],
      "execution_count": null,
      "outputs": []
    },
    {
      "cell_type": "code",
      "metadata": {
        "colab": {
          "base_uri": "https://localhost:8080/"
        },
        "id": "M5usAdZk7S9u",
        "outputId": "9c66392c-ec02-4807-e095-833592df43e8"
      },
      "source": [
        "df.info()"
      ],
      "execution_count": null,
      "outputs": [
        {
          "output_type": "stream",
          "text": [
            "<class 'pandas.core.frame.DataFrame'>\n",
            "RangeIndex: 21 entries, 0 to 20\n",
            "Data columns (total 8 columns):\n",
            " #   Column            Non-Null Count  Dtype  \n",
            "---  ------            --------------  -----  \n",
            " 0   Review ID         21 non-null     int64  \n",
            " 1   Restaurant_ID     21 non-null     object \n",
            " 2   Restaurant        21 non-null     object \n",
            " 3   User              21 non-null     object \n",
            " 4   Headline          21 non-null     object \n",
            " 5   Review            21 non-null     object \n",
            " 6   Rating            20 non-null     float64\n",
            " 7   Review_tokenized  21 non-null     object \n",
            "dtypes: float64(1), int64(1), object(6)\n",
            "memory usage: 1.4+ KB\n"
          ],
          "name": "stdout"
        }
      ]
    },
    {
      "cell_type": "code",
      "metadata": {
        "colab": {
          "base_uri": "https://localhost:8080/",
          "height": 35
        },
        "id": "o9mS6CqT7bMe",
        "outputId": "cadc817b-c0a2-4753-bcf8-2579cdef6333"
      },
      "source": [
        "df['Review_tokenized'].iloc[10]\n"
      ],
      "execution_count": null,
      "outputs": [
        {
          "output_type": "execute_result",
          "data": {
            "application/vnd.google.colaboratory.intrinsic+json": {
              "type": "string"
            },
            "text/plain": [
              "'อัพเดทราคา,ชาบูชิ,ตอน,399,บาท,net,ทาน,1.,15,ชม.,น้ำซุป,เลือก,4,รส,ซูชิลาย,ตา,เทมปุระ,ทาน,เพลิน,ดี,ยืน,ทาน,ไลน์,คาว,บุฟเฟ่ต์,กุ้ง,สด,เบ,เนื้อ,สไลด์,หลัก,อิ่ม,คุ้ม'"
            ]
          },
          "metadata": {
            "tags": []
          },
          "execution_count": 9
        }
      ]
    },
    {
      "cell_type": "code",
      "metadata": {
        "colab": {
          "base_uri": "https://localhost:8080/",
          "height": 531
        },
        "id": "3x48k7PU7e3M",
        "outputId": "fd8362cb-81b6-4c87-dafb-12a23c02dcc7"
      },
      "source": [
        "df.tail()"
      ],
      "execution_count": null,
      "outputs": [
        {
          "output_type": "execute_result",
          "data": {
            "text/html": [
              "<div>\n",
              "<style scoped>\n",
              "    .dataframe tbody tr th:only-of-type {\n",
              "        vertical-align: middle;\n",
              "    }\n",
              "\n",
              "    .dataframe tbody tr th {\n",
              "        vertical-align: top;\n",
              "    }\n",
              "\n",
              "    .dataframe thead th {\n",
              "        text-align: right;\n",
              "    }\n",
              "</style>\n",
              "<table border=\"1\" class=\"dataframe\">\n",
              "  <thead>\n",
              "    <tr style=\"text-align: right;\">\n",
              "      <th></th>\n",
              "      <th>Review ID</th>\n",
              "      <th>Restaurant_ID</th>\n",
              "      <th>Restaurant</th>\n",
              "      <th>User</th>\n",
              "      <th>Headline</th>\n",
              "      <th>Review</th>\n",
              "      <th>Rating</th>\n",
              "      <th>Review_tokenized</th>\n",
              "    </tr>\n",
              "  </thead>\n",
              "  <tbody>\n",
              "    <tr>\n",
              "      <th>16</th>\n",
              "      <td>17</td>\n",
              "      <td>436045MJ-ข้าน้อยขอชาบู</td>\n",
              "      <td>ข้าน้อยขอชาบู</td>\n",
              "      <td>ployynp</td>\n",
              "      <td>บุฟเฟ่ต์ชาบูและพิซซ่าไม่อั้นในราคา 199 บาท เน้...</td>\n",
              "      <td>หลังจากที่เคยลองสาขายูเนี่ยนมอลล์ไป รอบนี้มาที...</td>\n",
              "      <td>4.0</td>\n",
              "      <td>ลอง,สาขา,ยู,เนี่ยน,มอลล์,รอบ,สาขา,เดอะมอลล์,บา...</td>\n",
              "    </tr>\n",
              "    <tr>\n",
              "      <th>17</th>\n",
              "      <td>18</td>\n",
              "      <td>436045MJ-ข้าน้อยขอชาบู</td>\n",
              "      <td>ข้าน้อยขอชาบู</td>\n",
              "      <td>27a91236fe5e4559a4f097c97a480781</td>\n",
              "      <td>ร้านบุฟเฟ่ต์ ราคามิตรภาพ อยู่ชั้น4 ติดโรงหนัง ...</td>\n",
              "      <td>ร้านบุฟเฟ่ต์ที่มีโปรโมชั่นหัวละ199บาท ไม่รวมน้...</td>\n",
              "      <td>4.0</td>\n",
              "      <td>บุฟเฟ่ต์,โปรโมชั่น,หัว,199,บาท,น้ำ,รวมVAT,ทาน,...</td>\n",
              "    </tr>\n",
              "    <tr>\n",
              "      <th>18</th>\n",
              "      <td>19</td>\n",
              "      <td>436045MJ-ข้าน้อยขอชาบู</td>\n",
              "      <td>ข้าน้อยขอชาบู</td>\n",
              "      <td>0b81d251e4db486f9bcdba73b374ed99</td>\n",
              "      <td>ของหลากหลาย ปนๆ งงๆ นิดหน่อย</td>\n",
              "      <td>เคยรู้จักร้านนี้จากที่ union mall ไม่เคยได้ลอง...</td>\n",
              "      <td>3.0</td>\n",
              "      <td>รู้จัก,union,mall,ลอง,กิน,ขึ้นใจ,ชื่อ,ชื่อ,อยู...</td>\n",
              "    </tr>\n",
              "    <tr>\n",
              "      <th>19</th>\n",
              "      <td>20</td>\n",
              "      <td>436045MJ-ข้าน้อยขอชาบู</td>\n",
              "      <td>ข้าน้อยขอชาบู</td>\n",
              "      <td>40e0e087f3914fd49a8933b5a29936ca</td>\n",
              "      <td>อร่อยมากค่ะ คุ้มค่าสมราคา บุฟเฟ่หมูผักต่างๆ รว...</td>\n",
              "      <td>อร่อยมากค่ะ คุ้มค่าสมราคา บุฟเฟ่หมูผักต่างๆ รว...</td>\n",
              "      <td>5.0</td>\n",
              "      <td>อร่อย,คุ้ม,ค่า,สมราคา,บุฟเฟ่,หมู,ผัก,น้ำ,จบ,25...</td>\n",
              "    </tr>\n",
              "    <tr>\n",
              "      <th>20</th>\n",
              "      <td>21</td>\n",
              "      <td>436045MJ-ข้าน้อยขอชาบู</td>\n",
              "      <td>ข้าน้อยขอชาบู</td>\n",
              "      <td>41841cb99ea243a3a8d4b006e946c586</td>\n",
              "      <td>แม้จะแปลกบ้าง แต่ก็ถือว่าอยู่ในเกณฑ์ที่ดี มีอา...</td>\n",
              "      <td>ก็ตามที่เขียนเลยครับ ว่า ถ้าจะจ่ายในราคา 199 บ...</td>\n",
              "      <td>NaN</td>\n",
              "      <td>จ่าย,ราคา,199,บาท,จ่าย,เงิน,สด,ราคา,น้ำ,VAT 7,...</td>\n",
              "    </tr>\n",
              "  </tbody>\n",
              "</table>\n",
              "</div>"
            ],
            "text/plain": [
              "    Review ID  ...                                   Review_tokenized\n",
              "16         17  ...  ลอง,สาขา,ยู,เนี่ยน,มอลล์,รอบ,สาขา,เดอะมอลล์,บา...\n",
              "17         18  ...  บุฟเฟ่ต์,โปรโมชั่น,หัว,199,บาท,น้ำ,รวมVAT,ทาน,...\n",
              "18         19  ...  รู้จัก,union,mall,ลอง,กิน,ขึ้นใจ,ชื่อ,ชื่อ,อยู...\n",
              "19         20  ...  อร่อย,คุ้ม,ค่า,สมราคา,บุฟเฟ่,หมู,ผัก,น้ำ,จบ,25...\n",
              "20         21  ...  จ่าย,ราคา,199,บาท,จ่าย,เงิน,สด,ราคา,น้ำ,VAT 7,...\n",
              "\n",
              "[5 rows x 8 columns]"
            ]
          },
          "metadata": {
            "tags": []
          },
          "execution_count": 10
        }
      ]
    },
    {
      "cell_type": "markdown",
      "metadata": {
        "id": "Jw_iyWtl7r68"
      },
      "source": [
        "\n",
        "Create Dictionary"
      ]
    },
    {
      "cell_type": "code",
      "metadata": {
        "id": "JS417Gs07se6"
      },
      "source": [
        "# documents = df['Review_tokenized'].to_list()\n",
        "documents = df['Review_tokenized']\n",
        "texts = [[text for text in doc.split(',')] for doc in documents]\n",
        "dictionary = gensim.corpora.Dictionary(texts)"
      ],
      "execution_count": null,
      "outputs": []
    },
    {
      "cell_type": "code",
      "metadata": {
        "colab": {
          "base_uri": "https://localhost:8080/"
        },
        "id": "W_Pw2c9G7yJ7",
        "outputId": "ff44fc27-52f2-49f0-8da6-743ba4284828"
      },
      "source": [
        "print(dictionary.token2id.keys())"
      ],
      "execution_count": null,
      "outputs": [
        {
          "output_type": "stream",
          "text": [
            "dict_keys(['1', '4', '560', 'กิน', 'ก็รสชาติ', 'คอ', 'คุณภาพ', 'คุ้ม', 'จำกัด', 'จิ้ม', 'ซุป', 'ดี', 'ติม', 'ต้องการ', 'ถาด', 'ถาม', 'น้ำ', 'บริการ', 'บริการรสชาติ', 'บาท', 'ประทับใจ', 'พนักงาน', 'รสชาติ', 'รัก', 'ราคา', 'ร่อย', 'ละกัน', 'สรุป', 'สะอาด', 'สะอ้าน', 'สัน', 'อร่อย', 'อาหาร', 'เคลม', 'เจี้ยว', 'เซ็ท', 'เต้า', 'เนื้อ', 'เป็ด', 'เผ็ด', 'แปลก', 'แฟน', 'โมจิอ', 'ใจ', 'ใส่', 'ไอ', '\\u200b ', '\\u200bกับ', '\\u200bดำ', '\\u200bดี', '\\u200bพอ', '\\u200bภาพ', '\\u200bหลากหลาย', '\\u200bแต่', '\\u200bใหม่', '\\u200bไม่', '21', '30', '9', 'CTW', 'Terminal', 'การงดรับ', 'งาน', 'ชาบู', 'ญี่ปุ่น', 'ฐาน', 'ดื่ม', 'ทะยอย', 'ทาน', 'ทำ', 'นาที', 'นึก', 'พระราม', 'พรีเมียม', 'พาราไดซ์', 'มาตรา', 'รายละเอียด', 'ลูกค้า', 'สาขา', 'สู้', 'ออร์เดอร์', 'เครื่อง', 'เค้า', 'เจอ', 'เหวี่ยง', 'แจ้ง', 'โม', 'โม่', 'โอกาส', 'โอเค', '', '2', '555', '600+', 'กก', 'กรุบ', 'กั้น', 'คน', 'คาว', 'คุโรบู', 'ค่ะ', 'ค่า', 'จาน', 'จืด', 'ฉาก', 'ชอบ', 'ชา', 'ชาบูน้ำดำ', 'ชิ้น', 'ชื่อ', 'ซอยซอส', 'ตก', 'ตะ', 'ตัก', 'ตัว', 'ถั่ว', 'ถ่าย', 'นั่ง', 'นุ่ม', 'นุ่มลิ้น', 'น้ำจิ้ม', 'บด', 'บาร์ผัก', 'ฟูกุ', 'ภาษา', 'มาก', 'รส', 'รูป', 'รู้สึก', 'ลอง', 'ลืม', 'วัว', 'สด', 'สตอเบอรี่', 'สัตว์', 'สั่ง', 'สามรส', 'หนึบ', 'หมู', 'หม้อ', 'หวาน', 'อย่าง', 'เขียว', 'เข้มข้น', 'เค็ม', 'เลือก', 'เสิร์ฟ', 'เหนียว', 'เห็ด', 'แดง', 'แตกต่าง', 'แตา', 'แนว', 'แย้ววว', 'แล้ว', 'โควิด', 'โต๊ะ', 'ใส', 'ไก่', 'ไข่', 'ได', 'ไผ่', 'ไม้', 'ไหว', '3', 'ข้าว', 'จ่าย', 'ถ้วย', 'ธรรมดา', 'นะ', 'รสชาเขียว', 'ออส', 'เลี่ยน', 'โปรมา', 'โหด', 'ไว', 'ไอศกรีม', 'กลิ่น', 'ขนม', 'ตัดสิน', 'ผัก', 'ลูก', 'สบายดี', 'หน้า', 'หลากหลาย', 'หอม', 'เครดิต', 'เดิน', 'เด็ก', 'เนื้อต่าง', 'เส้น', 'เหมือน', 'แคบ', 'โปรบัตร', 'คะ', 'บุฟเฟ่', 'บ๋วยอร่อย', 'พอนซึ', 'สาย', 'หยิบ', 'โซน', 'โปรโมชั่น', ')', '20', '4.0/', '5', '600', 'Menu ', 'Number', 'กรรมวิธี', 'กะปิ', 'คะแนน', 'ชนิด', 'ชุด', 'บุฟเฟ่ต์', 'ประยุคก์', 'พาราไดส์', 'สุกี้', 'สุกี้ชาบูน้ำดำ', 'สไตล์', 'เดอะมอล', 'เดิม', 'เมนู', 'แบบฉบับ', 'แบ่ง', 'โมโม', 'โมโมฯ', 'ไทย', '500', 'กาแฟ', 'กี้', 'ครีม', 'ชาบูเฟรนไชส์รสชาติ', 'ตอน', 'ตำครับ', 'ติด', 'ทั่วไป', 'บ๊วย', 'ปกติ', 'ร้อน', 'ลุย', 'สุกี้ยา', 'ส่งน', 'อยู่แล้ว', 'ออสเตรเลีย', 'เริ่มงวด', 'เรื่อง', 'เหมาะสม', 'แนะนำ', 'โชยุหวาน', 'ไอศ', ' าน', '..', '399', 'กุ้ง', 'ขา', 'งั้น', 'ซูชิ', 'ซ่า', 'ตา', 'นิดนึง', 'บูชิ', 'ปู', 'ละลาน', 'สายพาน', 'หิว', 'อัด', 'ฮ่า', 'เกี๊ยว', 'เทมปุระ', 'เทียบ', 'เล่น', 'แพง', 'กลาย', 'กี่', 'ชั่วคราว', 'ชาบูชิ', 'ชื่นใจ', 'ญี่ปุน', 'ดึก', 'ตบ', 'ทอด', 'ท้าย', 'น้ะ', 'ปลา', 'ปุระ', 'สมใจ', 'หลัก', 'หวัง', 'อย่า', 'เติม', 'เทม', 'เย็น', 'เสริม', '1.', '15', 'net', 'ชม.', 'ซูชิลาย', 'น้ำซุป', 'ยืน', 'สไลด์', 'อัพเดทราคา', 'อิ่ม', 'เบ', 'เพลิน', 'ไลน์', ' Net/คน', '359', 'G', 'Shabushi', 'กด', 'กรอบ', 'กรีม', 'กุ้งเทมปุระ', 'ข่าว', 'ครึ่ง', 'คิว', 'จุ', 'ชั่วโมง', 'ชั้น', 'ชื่น', 'ดิบ', 'ดู', 'ตักไอ', 'ตับ', 'ตั้งใจ', 'ติง', 'ติมวานิลา', 'ถนน', 'ทิ้ง', 'นิด', 'นี้', 'นุ่มดี', 'น้ำฝรั่ง', 'น้ำมัน', 'บิล', 'ปอก', 'ฝั่ง', 'มื้อ', 'รอ', 'ระดับ', 'รายการ', 'ลด', 'ลา', 'วาง', 'วานิลา', 'สาร', 'สาเหตุ', 'สำหรับ', 'สไปรท์', 'หนา', 'หยุด', 'หอยตลับ', 'หา', 'หาย', 'ห่าง', 'ห้าง', 'อม', 'อาทิตย์', 'เช็ค', 'เดอะมอลล์', 'เด่น', 'เด้ง', 'เนื่อง', 'เบคอน', 'เปรี้ยว', 'เปลือก', 'เพื่อน', 'เลิก', 'เวลา', 'เสาร์', 'แก้ว', 'แถม', 'แน่น', 'แป้ง', 'แย่', 'แออัด', 'โดน', 'โฟลต', 'โอเด้ง', 'ได้ยิน', 'ไหร่', ':15', 'ชอคโกแลต', 'นัด', 'พอสมควร', 'มะนาว', 'วนิลา ', 'สตอเบอร์รี่', 'หมุสไลด์', 'หลากรส', 'อยุ่', 'ฯ', 'เดอะแกงค์', 'เอย', 'ใหม่', 'ขยัน', 'จอง', 'ชูชิ', 'บางกะปิ', 'บุฟเฟต์', 'ประตูปทาง', 'พลาด', 'พาน', 'พี่', 'รอบ', 'ร้อย', 'สาม', 'สุดท้าย', 'หล่ะ', 'อารามณ์', 'เต็ม', 'โชค', 'โอเคนะ', 'ข้อ', 'ทั่วถึง', 'นํ้า', 'บุฟเฟขวัญใจ', 'มี่', 'ระบบ', 'รีวิว', 'สวัสดี', 'เก้บ', '^^', 'xx', 'กลยุทธ์', 'ขนาด', 'ข้น', 'คณะ', 'ชอป', 'ซุ้ม', 'ดำ', 'ด้วย', 'ตรงข้าม', 'ต้ม', 'ต้มยำ', 'ท่าน', 'บริเวณ', 'บัตร', 'ประตู', 'ปรับปรุง', 'ปั้น', 'ยอด', 'ยาวหน้า', 'ลาน', 'สมาชิก', 'สลัด', 'หมู่', 'อิอิ', 'เครือโออิชิลด', 'เคลื่อน', 'เคาน์เตอร์', 'เบา', 'เลย', 'แมคโดนัล', 'โชคชะตา', 'โน้น', ' HALL', ' ธรรมดา', '199', '39', '40', '49', 'MCC', 'คุ้มดี', 'ค่าย', 'นาราย', 'พิซซ่า', 'พิซเซอเรีย', 'มวย', 'มอลล์', 'ยู', 'รีฟีล', 'เขียวหวาน', 'เนี่ยน', 'แกง', 'แน่นอน', 'แวะ', '10', '300', '6', 'กำเงิน', 'ช่อง', 'ซี', 'ทอน', 'นารายพิซเซอเรีย', 'น้ำซึป', 'ประกัน', 'ฟู้ด', 'รวมVAT', 'ลอตเตอรี่', 'สัปดาห์', 'หวย', 'หัว', 'อันนึง', 'แลกฮัน', 'โทสฟรี', 'Narai pizzeria', 'mall', 'pizza', 'union', 'ขึ้นใจ', 'ตัด', 'ตู้', 'นิวออลีน', 'ปรุง', 'รู้จัก', 'สปาเกตตี้', 'สั่งเอา', 'สุก', '128', '255', '29', 'กาไก่', 'จบ', 'จุก', 'บราว', 'พิซซ่าบุพเฟ่', 'รสชาต', 'วิปครีม', 'สมราคา', 'สวย', 'อร่อยยมาก', 'เซตไอ', 'เด็ด', 'เรย', 'เริส', 'เเบบ', 'เเป้ง', 'VAT 7', 'ทดแทน', 'ปรกติ', 'เงิน', 'เนื้อวัว', 'เป็นต้น'])\n"
          ],
          "name": "stdout"
        }
      ]
    },
    {
      "cell_type": "code",
      "metadata": {
        "id": "mOXfxOuP71K1"
      },
      "source": [
        "gensim_corpus = [dictionary.doc2bow(text, allow_update=True) for text in texts]\n",
        "word_frequencies = [[(dictionary[id], frequence) for id, frequence in couple] for couple in gensim_corpus]"
      ],
      "execution_count": null,
      "outputs": []
    },
    {
      "cell_type": "markdown",
      "metadata": {
        "id": "wLCl4e-58LFb"
      },
      "source": [
        "Topic Modelling"
      ]
    },
    {
      "cell_type": "code",
      "metadata": {
        "colab": {
          "base_uri": "https://localhost:8080/"
        },
        "id": "VYEV_Hie8NVj",
        "outputId": "182c918d-4131-4cc0-eb50-bd06f598ce38"
      },
      "source": [
        "num_topics = 5\n",
        "chunksize = 4000 # size of the doc looked at every pass\n",
        "passes = 20 # number of passes through documents\n",
        "iterations = 100\n",
        "eval_every = 1  # Don't evaluate model perplexity, takes too much time.\n",
        "\n",
        "# Make a index to word dictionary.\n",
        "temp = dictionary[0]  # This is only to \"load\" the dictionary.\n",
        "id2word = dictionary.id2token\n",
        "\n",
        "%time model = gensim.models.LdaModel(corpus=gensim_corpus, id2word=id2word, chunksize=chunksize, \\\n",
        "                       alpha='auto', eta='auto', \\\n",
        "                       iterations=iterations, num_topics=num_topics, \\\n",
        "                       passes=passes, eval_every=eval_every)"
      ],
      "execution_count": null,
      "outputs": [
        {
          "output_type": "stream",
          "text": [
            "CPU times: user 342 ms, sys: 0 ns, total: 342 ms\n",
            "Wall time: 342 ms\n"
          ],
          "name": "stdout"
        }
      ]
    },
    {
      "cell_type": "code",
      "metadata": {
        "colab": {
          "base_uri": "https://localhost:8080/",
          "height": 881
        },
        "id": "36Zhl8LU8Rx1",
        "outputId": "51d899f9-f97b-459f-ee8f-84fa27e602d9"
      },
      "source": [
        "# pyLDAvis.gensim.prepare(model, gensim_corpus, dictionary)\n",
        "gensimvis.prepare(model, gensim_corpus, dictionary)"
      ],
      "execution_count": null,
      "outputs": [
        {
          "output_type": "execute_result",
          "data": {
            "text/html": [
              "\n",
              "<link rel=\"stylesheet\" type=\"text/css\" href=\"https://cdn.jsdelivr.net/gh/bmabey/pyLDAvis@3.3.1/pyLDAvis/js/ldavis.v1.0.0.css\">\n",
              "\n",
              "\n",
              "<div id=\"ldavis_el2031405703758588965855587539\"></div>\n",
              "<script type=\"text/javascript\">\n",
              "\n",
              "var ldavis_el2031405703758588965855587539_data = {\"mdsDat\": {\"x\": [-0.057088973903281826, 0.027424967067901967, 0.02327688458382641, 0.011578728008150498, -0.005191605756597054], \"y\": [0.0025327557675161646, 0.04302736711822361, -0.039720131922716465, -0.008419015660866653, 0.0025790246978433518], \"topics\": [1, 2, 3, 4, 5], \"cluster\": [1, 1, 1, 1, 1], \"Freq\": [32.50072729988073, 27.905695683632892, 23.317467281487733, 11.753931212813475, 4.52217852218517]}, \"tinfo\": {\"Term\": [\"\\u0e40\\u0e19\\u0e37\\u0e49\\u0e2d\", \"\\u0e01\\u0e34\\u0e19\", \"\\u0e04\\u0e19\", \"\\u0e19\\u0e49\\u0e33\", \"\\u0e14\\u0e35\", \"\\u0e40\\u0e25\\u0e37\\u0e2d\\u0e01\", \"\", \"\\u0e17\\u0e32\\u0e19\", \"\\u0e23\\u0e32\\u0e04\\u0e32\", \"\\u0e23\\u0e2d\", \"\\u0e0b\\u0e38\\u0e1b\", \"\\u0e2d\\u0e23\\u0e48\\u0e2d\\u0e22\", \"\\u0e1c\\u0e31\\u0e01\", \"\\u0e2a\\u0e14\", \"\\u0e2b\\u0e27\\u0e32\\u0e19\", \"\\u0e14\\u0e39\", \"\\u0e1a\\u0e32\\u0e17\", \"\\u0e04\\u0e34\\u0e27\", \"\\u0e2a\\u0e32\\u0e02\\u0e32\", \"\\u0e1e\\u0e19\\u0e31\\u0e01\\u0e07\\u0e32\\u0e19\", \"\\u0e2a\\u0e31\\u0e48\\u0e07\", \"\\u0e04\\u0e38\\u0e49\\u0e21\", \"\\u0e23\\u0e2a\\u0e0a\\u0e32\\u0e15\\u0e34\", \"2\", \"\\u0e44\\u0e01\\u0e48\", \"\\u0e19\\u0e31\\u0e48\\u0e07\", \"\\u0e2b\\u0e21\\u0e39\", \"\\u0e0a\\u0e2d\\u0e1a\", \"\\u0e0a\\u0e32\\u0e1a\\u0e39\\u0e19\\u0e49\\u0e33\\u0e14\\u0e33\", \"\\u0e27\\u0e31\\u0e27\", \"\\u0e40\\u0e27\\u0e25\\u0e32\", \"\\u200b \", \"\\u0e19\\u0e4d\\u0e49\\u0e32\", \"\\u0e15\\u0e49\\u0e2d\\u0e07\\u0e01\\u0e32\\u0e23\", \"\\u0e1b\\u0e23\\u0e30\\u0e17\\u0e31\\u0e1a\\u0e43\\u0e08\", \"\\u0e2b\\u0e27\\u0e22\", \"\\u0e2b\\u0e32\", \"\\u0e2a\\u0e30\\u0e2d\\u0e32\\u0e14\", \"359\", \"\\u0e43\\u0e2a\\u0e48\", \"\\u0e40\\u0e1b\\u0e25\\u0e37\\u0e2d\\u0e01\", \"\\u0e40\\u0e0a\\u0e47\\u0e04\", \"\\u0e0a\\u0e37\\u0e48\\u0e19\", \"\\u0e1a\\u0e34\\u0e25\", \"\\u0e42\\u0e14\\u0e19\", \"\\u0e1b\\u0e2d\\u0e01\", \"\\u0e2f\", \":15\", \"\\u0e40\\u0e2d\\u0e22\", \"\\u0e2b\\u0e21\\u0e38\\u0e2a\\u0e44\\u0e25\\u0e14\\u0e4c\", \"\\u0e2d\\u0e22\\u0e38\\u0e48\", \"\\u0e2a\\u0e15\\u0e2d\\u0e40\\u0e1a\\u0e2d\\u0e23\\u0e4c\\u0e23\\u0e35\\u0e48\", \"\\u0e40\\u0e14\\u0e2d\\u0e30\\u0e41\\u0e01\\u0e07\\u0e04\\u0e4c\", \"\\u0e43\\u0e2b\\u0e21\\u0e48\", \"\\u0e0a\\u0e2d\\u0e04\\u0e42\\u0e01\\u0e41\\u0e25\\u0e15\", \"\\u0e2b\\u0e25\\u0e32\\u0e01\\u0e23\\u0e2a\", \"\\u0e21\\u0e30\\u0e19\\u0e32\\u0e27\", \"\\u0e27\\u0e19\\u0e34\\u0e25\\u0e32 \", \"\\u0e1e\\u0e2d\\u0e2a\\u0e21\\u0e04\\u0e27\\u0e23\", \"\\u0e21\\u0e35\\u0e48\", \"1\", \"\\u0e43\\u0e08\", \"\\u0e2a\\u0e33\\u0e2b\\u0e23\\u0e31\\u0e1a\", \"\\u0e1a\\u0e38\\u0e1f\\u0e40\\u0e1f\\u0e48\\u0e15\\u0e4c\", \"\\u0e01\\u0e34\\u0e19\", \"\\u0e04\\u0e19\", \"\\u0e18\\u0e23\\u0e23\\u0e21\\u0e14\\u0e32\", \"\\u0e2a\\u0e14\", \"G\", \"\\u0e0a\\u0e31\\u0e48\\u0e27\\u0e42\\u0e21\\u0e07\", \"\\u0e2d\\u0e32\\u0e2b\\u0e32\\u0e23\", \"\\u0e14\\u0e35\", \"\\u0e04\\u0e48\\u0e30\", \"\\u0e2d\\u0e23\\u0e48\\u0e2d\\u0e22\", \"\\u0e01\\u0e38\\u0e49\\u0e07\", \"\\u0e23\\u0e2a\\u0e0a\\u0e32\\u0e15\\u0e34\", \"\\u0e17\\u0e32\\u0e19\", \"\\u0e40\\u0e25\\u0e37\\u0e2d\\u0e01\", \"\\u0e40\\u0e19\\u0e37\\u0e49\\u0e2d\", \"\\u0e15\\u0e31\\u0e27\", \"\\u0e14\\u0e39\", \"\\u0e19\\u0e49\\u0e33\", \"\\u0e19\\u0e38\\u0e48\\u0e21\", \"\\u0e0b\\u0e38\\u0e1b\", \"\\u0e2b\\u0e27\\u0e32\\u0e19\", \"\\u0e23\\u0e32\\u0e04\\u0e32\", \"\\u0e1a\\u0e32\\u0e17\", \"\\u0e04\\u0e38\\u0e49\\u0e21\", \"\\u0e2a\\u0e32\\u0e02\\u0e32\", \"\\u0e1a\\u0e23\\u0e34\\u0e01\\u0e32\\u0e23\", \"\\u0e1e\\u0e19\\u0e31\\u0e01\\u0e07\\u0e32\\u0e19\", \"\\u0e19\\u0e49\\u0e33\\u0e0b\\u0e38\\u0e1b\", \"\\u0e1b\\u0e38\\u0e23\\u0e30\", \"\\u0e40\\u0e15\\u0e34\\u0e21\", \"\\u0e40\\u0e17\\u0e21\", \"\\u0e2b\\u0e25\\u0e31\\u0e01\", \"\\u0e44\\u0e25\\u0e19\\u0e4c\", \"\\u0e2d\\u0e34\\u0e48\\u0e21\", \"\\u0e40\\u0e1a\", \"\\u0e14\\u0e49\\u0e27\\u0e22\", \"\\u0e22\\u0e2d\\u0e14\", \"\\u0e1a\\u0e23\\u0e34\\u0e40\\u0e27\\u0e13\", \"\\u0e0a\\u0e2d\\u0e1b\", \"\\u0e40\\u0e25\\u0e22\", \"\\u0e42\\u0e19\\u0e49\\u0e19\", \"\\u0e2b\\u0e21\\u0e39\\u0e48\", \"\\u0e40\\u0e1a\\u0e32\", \"\\u0e04\\u0e13\\u0e30\", \"\\u0e01\\u0e25\\u0e22\\u0e38\\u0e17\\u0e18\\u0e4c\", \"\\u0e2a\\u0e25\\u0e31\\u0e14\", \"\\u0e40\\u0e04\\u0e32\\u0e19\\u0e4c\\u0e40\\u0e15\\u0e2d\\u0e23\\u0e4c\", \"\\u0e2d\\u0e34\\u0e2d\\u0e34\", \"\\u0e0b\\u0e38\\u0e49\\u0e21\", \"xx\", \"\\u0e1a\\u0e31\\u0e15\\u0e23\", \"\\u0e41\\u0e21\\u0e04\\u0e42\\u0e14\\u0e19\\u0e31\\u0e25\", \"\\u0e2a\\u0e21\\u0e32\\u0e0a\\u0e34\\u0e01\", \"\\u0e14\\u0e33\", \"\\u0e15\\u0e23\\u0e07\\u0e02\\u0e49\\u0e32\\u0e21\", \"\\u0e1b\\u0e23\\u0e31\\u0e1a\\u0e1b\\u0e23\\u0e38\\u0e07\", \"\\u0e02\\u0e19\\u0e32\\u0e14\", \"\\u0e19\\u0e36\\u0e01\", \"\\u0e17\\u0e2d\\u0e14\", \"\\u0e0a\\u0e32\\u0e1a\\u0e39\", \"\\u0e40\\u0e17\\u0e21\\u0e1b\\u0e38\\u0e23\\u0e30\", \"\\u0e02\\u0e49\\u0e32\\u0e27\", \"4\", \"\\u0e19\\u0e31\\u0e48\\u0e07\", \"\\u0e17\\u0e32\\u0e19\", \"\\u0e08\\u0e48\\u0e32\\u0e22\", \"\\u0e2b\\u0e21\\u0e49\\u0e2d\", \"\\u0e0a\\u0e37\\u0e48\\u0e2d\", \"\\u0e23\\u0e2a\", \"\\u0e0a\\u0e32\\u0e1a\\u0e39\\u0e0a\\u0e34\", \"\\u0e40\\u0e25\\u0e37\\u0e2d\\u0e01\", \"\\u0e1a\\u0e32\\u0e17\", \"3\", \"\\u0e2a\\u0e32\\u0e02\\u0e32\", \"\\u0e01\\u0e38\\u0e49\\u0e07\", \"\\u0e2b\\u0e19\\u0e49\\u0e32\", \"\\u0e2b\\u0e25\\u0e32\\u0e01\\u0e2b\\u0e25\\u0e32\\u0e22\", \")\", \"\\u0e23\\u0e32\\u0e04\\u0e32\", \"\\u0e15\\u0e31\\u0e27\", \"\\u0e40\\u0e19\\u0e37\\u0e49\\u0e2d\", \"\\u0e14\\u0e35\", \"\\u0e2d\\u0e32\\u0e2b\\u0e32\\u0e23\", \"\\u0e19\\u0e49\\u0e33\", \"2\", \"\\u0e04\\u0e48\\u0e32\", \"\\u0e04\\u0e38\\u0e13\\u0e20\\u0e32\\u0e1e\", \"\\u0e0a\\u0e2d\\u0e1a\", \"\\u0e2a\\u0e31\\u0e48\\u0e07\", \"\\u0e0b\\u0e38\\u0e1b\", \"\\u0e2d\\u0e23\\u0e48\\u0e2d\\u0e22\", \"\\u0e04\\u0e38\\u0e49\\u0e21\", \"\\u0e01\\u0e34\\u0e19\", \"\\u0e40\\u0e21\\u0e19\\u0e39\", \"\\u0e04\\u0e19\", \"\\u0e2b\\u0e27\\u0e32\\u0e19\", \"\\u0e2a\\u0e14\", \"\\u0e23\\u0e2a\\u0e0a\\u0e32\\u0e15\\u0e34\", \"\\u0e1a\\u0e38\\u0e1f\\u0e40\\u0e1f\\u0e48\", \"\\u0e23\\u0e49\\u0e2d\\u0e19\", \"\\u0e1e\\u0e2d\\u0e19\\u0e0b\\u0e36\", \"\\u0e23\\u0e32\\u0e22\\u0e25\\u0e30\\u0e40\\u0e2d\\u0e35\\u0e22\\u0e14\", \"\\u0e40\\u0e2b\\u0e27\\u0e35\\u0e48\\u0e22\\u0e07\", \"\\u0e2a\\u0e48\\u0e07\\u0e19\", \"\\u0e04\\u0e23\\u0e35\\u0e21\", \"\\u0e1a\\u0e4a\\u0e27\\u0e22\", \"500\", \"\\u0e25\\u0e38\\u0e22\", \"\\u0e2d\\u0e2d\\u0e2a\\u0e40\\u0e15\\u0e23\\u0e40\\u0e25\\u0e35\\u0e22\", \"\\u0e01\\u0e35\\u0e49\", \"\\u0e15\\u0e33\\u0e04\\u0e23\\u0e31\\u0e1a\", \"\\u0e2d\\u0e2d\\u0e23\\u0e4c\\u0e40\\u0e14\\u0e2d\\u0e23\\u0e4c\", \"21\", \"\\u0e0a\\u0e32\\u0e1a\\u0e39\\u0e40\\u0e1f\\u0e23\\u0e19\\u0e44\\u0e0a\\u0e2a\\u0e4c\\u0e23\\u0e2a\\u0e0a\\u0e32\\u0e15\\u0e34\", \"30\", \"\\u0e42\\u0e2d\\u0e01\\u0e32\\u0e2a\", \"VAT 7\", \"\\u0e01\\u0e32\\u0e41\\u0e1f\", \"\\u0e2a\\u0e39\\u0e49\", \"\\u0e1e\\u0e23\\u0e35\\u0e40\\u0e21\\u0e35\\u0e22\\u0e21\", \"\\u0e1b\\u0e01\\u0e15\\u0e34\", \"Terminal\", \"\\u0e01\\u0e32\\u0e23\\u0e07\\u0e14\\u0e23\\u0e31\\u0e1a\", \"\\u0e42\\u0e0a\\u0e22\\u0e38\\u0e2b\\u0e27\\u0e32\\u0e19\", \"\\u0e40\\u0e08\\u0e2d\", \"\\u0e17\\u0e31\\u0e48\\u0e27\\u0e44\\u0e1b\", \"\\u0e2a\\u0e38\\u0e01\\u0e35\\u0e49\\u0e22\\u0e32\", \"\\u0e40\\u0e23\\u0e34\\u0e48\\u0e21\\u0e07\\u0e27\\u0e14\", \"\\u0e0d\\u0e35\\u0e48\\u0e1b\\u0e38\\u0e48\\u0e19\", \"\\u0e19\\u0e49\\u0e33\", \"\\u0e08\\u0e34\\u0e49\\u0e21\", \"\\u0e15\\u0e2d\\u0e19\", \"\\u0e14\\u0e35\", \"\\u0e2b\\u0e21\\u0e39\", \"\\u0e1c\\u0e31\\u0e01\", \"\", \"\\u0e23\\u0e32\\u0e04\\u0e32\", \"\\u0e04\\u0e38\\u0e49\\u0e21\", \"\\u0e2b\\u0e27\\u0e32\\u0e19\", \"\\u0e2d\\u0e32\\u0e2b\\u0e32\\u0e23\", \"\\u0e17\\u0e49\\u0e32\\u0e22\", \"\\u0e42\\u0e1b\\u0e23\\u0e42\\u0e21\\u0e0a\\u0e31\\u0e48\\u0e19\", \"\\u0e42\\u0e2d\\u0e40\\u0e04\", \"\\u0e07\\u0e32\\u0e19\", \"\\u0e40\\u0e19\\u0e37\\u0e49\\u0e2d\", \"\\u0e1e\\u0e19\\u0e31\\u0e01\\u0e07\\u0e32\\u0e19\", \"\\u0e2a\\u0e32\\u0e02\\u0e32\", \"\\u0e0b\\u0e39\\u0e0a\\u0e34\", \"\\u0e1a\\u0e32\\u0e17\", \"\\u0e2a\\u0e31\\u0e48\\u0e07\", \"\\u0e0a\\u0e2d\\u0e1a\", \"\\u0e2d\\u0e23\\u0e48\\u0e2d\\u0e22\", \"\\u0e1a\\u0e23\\u0e34\\u0e01\\u0e32\\u0e23\", \"\\u0e40\\u0e25\\u0e37\\u0e2d\\u0e01\", \"\\u0e01\\u0e34\\u0e19\", \"\\u0e17\\u0e32\\u0e19\", \"\\u0e0a\\u0e32\\u0e1a\\u0e39\", \"\\u0e0b\\u0e38\\u0e1b\", \"\\u0e2a\\u0e14\", \"\\u0e15\\u0e34\\u0e21\", \"\\u0e25\\u0e2d\\u0e07\", \"\\u0e04\\u0e19\", \"\\u0e40\\u0e2b\\u0e47\\u0e14\", \"\\u0e44\\u0e1c\\u0e48\", \"\\u0e19\\u0e49\\u0e33\\u0e08\\u0e34\\u0e49\\u0e21\", \"\\u0e44\\u0e14\", \"\\u0e1f\\u0e39\\u0e01\\u0e38\", \"\\u0e44\\u0e21\\u0e49\", \"\\u0e19\\u0e38\\u0e48\\u0e21\\u0e25\\u0e34\\u0e49\\u0e19\", \"\\u0e41\\u0e15\\u0e32\", \"\\u0e2a\\u0e15\\u0e2d\\u0e40\\u0e1a\\u0e2d\\u0e23\\u0e35\\u0e48\", \"\\u0e41\\u0e14\\u0e07\", \"\\u0e21\\u0e32\\u0e01\", \"\\u0e44\\u0e2b\\u0e27\", \"\\u0e1a\\u0e14\", \"\\u0e04\\u0e38\\u0e42\\u0e23\\u0e1a\\u0e39\", \"\\u0e16\\u0e31\\u0e48\\u0e27\", \"\\u0e41\\u0e25\\u0e49\\u0e27\", \"\\u0e20\\u0e32\\u0e29\\u0e32\", \"\\u0e41\\u0e15\\u0e01\\u0e15\\u0e48\\u0e32\\u0e07\", \"\\u0e16\\u0e48\\u0e32\\u0e22\", \"\\u0e23\\u0e39\\u0e1b\", \"\\u0e40\\u0e2b\\u0e19\\u0e35\\u0e22\\u0e27\", \"\\u0e2a\\u0e31\\u0e15\\u0e27\\u0e4c\", \"\\u0e41\\u0e22\\u0e49\\u0e27\\u0e27\\u0e27\", \"\\u0e2d\\u0e22\\u0e48\\u0e32\\u0e07\", \"\\u0e1a\\u0e32\\u0e23\\u0e4c\\u0e1c\\u0e31\\u0e01\", \"\\u0e42\\u0e04\\u0e27\\u0e34\\u0e14\", \"\\u0e01\\u0e23\\u0e38\\u0e1a\", \"\\u0e15\\u0e01\", \"\\u0e2b\\u0e19\\u0e36\\u0e1a\", \"\\u0e2a\\u0e32\\u0e21\\u0e23\\u0e2a\", \"\\u0e27\\u0e31\\u0e27\", \"\\u0e0a\\u0e32\\u0e1a\\u0e39\\u0e19\\u0e49\\u0e33\\u0e14\\u0e33\", \"\", \"\\u0e40\\u0e19\\u0e37\\u0e49\\u0e2d\", \"\\u0e40\\u0e2a\\u0e34\\u0e23\\u0e4c\\u0e1f\", \"\\u0e42\\u0e15\\u0e4a\\u0e30\", \"\\u0e40\\u0e1b\\u0e47\\u0e14\", \"\\u0e0b\\u0e38\\u0e1b\", \"\\u0e44\\u0e01\\u0e48\", \"\\u0e19\\u0e49\\u0e33\", \"2\", \"\\u0e40\\u0e25\\u0e37\\u0e2d\\u0e01\", \"\\u0e2a\\u0e31\\u0e48\\u0e07\", \"\\u0e2d\\u0e23\\u0e48\\u0e2d\\u0e22\", \"\\u0e17\\u0e32\\u0e19\", \"\\u0e23\\u0e2a\\u0e0a\\u0e32\\u0e15\\u0e34\", \"\\u0e2b\\u0e27\\u0e32\\u0e19\", \"\\u0e44\\u0e2d\", \"\\u0e15\\u0e34\\u0e21\", \"\\u0e25\\u0e2d\\u0e07\", \"\\u0e2b\\u0e21\\u0e39\", \"\\u0e0a\\u0e2d\\u0e1a\", \"\\u0e04\\u0e38\\u0e49\\u0e21\", \"\\u0e01\\u0e34\\u0e19\", \"\\u0e14\\u0e35\", \"\\u0e23\\u0e32\\u0e04\\u0e32\", \"\\u0e04\\u0e19\", \"\\u0e2a\\u0e14\", \"\\u0e2d\\u0e32\\u0e2b\\u0e32\\u0e23\", \"\\u0e1e\\u0e19\\u0e31\\u0e01\\u0e07\\u0e32\\u0e19\", \"\\u0e1a\\u0e32\\u0e17\", \"\\u0e2a\\u0e32\\u0e02\\u0e32\", \"\\u0e1a\\u0e38\\u0e1f\\u0e40\\u0e1f\\u0e15\\u0e4c\", \"\\u0e23\\u0e49\\u0e2d\\u0e22\", \"\\u0e42\\u0e2d\\u0e40\\u0e04\\u0e19\\u0e30\", \"\\u0e2a\\u0e32\\u0e21\", \"\\u0e1e\\u0e35\\u0e48\", \"\\u0e08\\u0e2d\\u0e07\", \"\\u0e1b\\u0e23\\u0e30\\u0e15\\u0e39\\u0e1b\\u0e17\\u0e32\\u0e07\", \"\\u0e2a\\u0e38\\u0e14\\u0e17\\u0e49\\u0e32\\u0e22\", \"\\u0e1e\\u0e25\\u0e32\\u0e14\", \"\\u0e2d\\u0e32\\u0e23\\u0e32\\u0e21\\u0e13\\u0e4c\", \"\\u0e2b\\u0e25\\u0e48\\u0e30\", \"\\u0e23\\u0e2d\", \"\\u0e41\\u0e1e\\u0e07\", \"\\u0e0a\\u0e39\\u0e0a\\u0e34\", \"\\u0e40\\u0e14\\u0e34\\u0e19\", \"\\u0e02\\u0e22\\u0e31\\u0e19\", \"\\u0e42\\u0e0a\\u0e04\", \"\\u0e23\\u0e2d\\u0e1a\", \"\\u0e1a\\u0e32\\u0e07\\u0e01\\u0e30\\u0e1b\\u0e34\", \"\\u0e40\\u0e15\\u0e47\\u0e21\", \"\\u0e04\\u0e23\\u0e36\\u0e48\\u0e07\", \"\\u0e40\\u0e25\\u0e34\\u0e01\", \"Shabushi\", \"\\u0e04\\u0e34\\u0e27\", \"\\u0e1c\\u0e31\\u0e01\", \"\\u0e14\\u0e39\", \"G\", \"\\u0e0a\\u0e31\\u0e48\\u0e27\\u0e42\\u0e21\\u0e07\", \"\\u0e1e\\u0e32\\u0e19\", \"\\u0e40\\u0e14\\u0e2d\\u0e30\\u0e21\\u0e2d\\u0e25\\u0e25\\u0e4c\", \"\\u0e04\\u0e19\", \"\\u0e01\\u0e34\\u0e19\", \"\\u0e14\\u0e35\", \"\\u0e40\\u0e19\\u0e37\\u0e49\\u0e2d\", \"\\u0e40\\u0e25\\u0e37\\u0e2d\\u0e01\", \"\\u0e23\\u0e32\\u0e04\\u0e32\", \"\\u0e19\\u0e49\\u0e33\", \"\\u0e1a\\u0e32\\u0e17\", \"\\u0e2a\\u0e14\", \"\\u0e17\\u0e32\\u0e19\", \"\\u0e1e\\u0e19\\u0e31\\u0e01\\u0e07\\u0e32\\u0e19\", \"\\u0e2a\\u0e32\\u0e02\\u0e32\", \"\\u0e2d\\u0e23\\u0e48\\u0e2d\\u0e22\", \"\\u0e2a\\u0e32\\u0e22\", \"\\u0e2b\\u0e22\\u0e34\\u0e1a\", \"\\u0e2d\\u0e32\\u0e2b\\u0e32\\u0e23\", \"\\u0e2b\\u0e19\\u0e49\\u0e32\", \"\\u0e0b\\u0e38\\u0e1b\", \"\\u0e2b\\u0e27\\u0e32\\u0e19\", \"\\u0e04\\u0e38\\u0e49\\u0e21\", \"\\u0e2b\\u0e49\\u0e32\\u0e07\", \"\\u0e19\\u0e31\\u0e48\\u0e07\", \"\\u0e0a\\u0e31\\u0e49\\u0e19\", \"\\u0e23\\u0e2a\\u0e0a\\u0e32\\u0e15\\u0e34\", \"\\u0e0a\\u0e2d\\u0e1a\", \"\\u0e01\\u0e38\\u0e49\\u0e07\"], \"Freq\": [24.0, 22.0, 15.0, 22.0, 28.0, 19.0, 7.0, 24.0, 18.0, 5.0, 13.0, 18.0, 5.0, 13.0, 13.0, 5.0, 14.0, 4.0, 12.0, 8.0, 8.0, 12.0, 10.0, 6.0, 5.0, 4.0, 7.0, 8.0, 3.0, 3.0, 4.2661014035957106, 1.8844179789033342, 1.292764235067016, 1.2991827576677433, 1.305960562610631, 1.3061097445798977, 1.3281509182987494, 1.328578125634092, 1.329493361394661, 1.3305440578866186, 1.3411797688892608, 1.3414908809282335, 1.3421740234098065, 1.342655629127941, 1.345232789005362, 1.3470899244923047, 0.7114220014958247, 0.7114284728597884, 0.7114340197431858, 0.7114356740768306, 0.7114378149791944, 0.7114392746853517, 0.7114421454407942, 0.7114426806663852, 0.7114439944019266, 0.7114467678436254, 0.711447984265423, 0.7114484708341421, 0.7114494439715803, 0.7114697825440373, 3.3284149730740467, 2.734937569678658, 2.7456027667456757, 4.157781864611539, 11.266050268311878, 7.675043110420707, 2.1295571383949397, 6.295906505011846, 1.5316070980201248, 1.537169454302778, 7.989620297183166, 10.313945833506759, 3.125586661627758, 6.914661542617846, 4.6217924793545775, 4.285495254227852, 7.6792237088549475, 5.626792383492152, 6.389715007773479, 3.298593760164769, 2.5096348437260585, 5.963074427674843, 2.377129336109378, 4.166780661129489, 4.176904015270952, 4.781357046576124, 4.163129449461596, 3.490656836015399, 3.4219447692733964, 2.6950044856496875, 2.4372752632384267, 1.7673910895420313, 1.2029412603056406, 1.2029457722913437, 1.2029592246931624, 1.2087783493655304, 1.2103455123997464, 1.227487715859959, 1.2282556725376879, 1.2282810733460905, 0.6620983073785397, 0.6620993935973201, 0.6621007304819728, 0.6621017331454624, 0.6621017331454624, 0.6621018584783986, 0.6621018584783986, 0.6621030700301151, 0.6621052424676759, 0.6621056602441299, 0.6621067046852649, 0.6621069553511373, 0.6621069553511373, 0.6621070389064281, 0.6621070806840735, 0.6621076237934637, 0.6621080415699176, 0.6621081669028539, 0.662108710012244, 0.6621094202322159, 0.6621101304521876, 2.5080701399260565, 2.52628920397408, 3.777927741086427, 1.9572265377985785, 1.9460653891643014, 1.964742837537645, 2.191495185706514, 9.19322768769863, 2.045534453537658, 2.1854631621531913, 1.4063201020924199, 1.4131148183401507, 2.0571466336316653, 6.260403558556262, 4.897091704185953, 2.18253505054245, 4.207906275525786, 3.7911682466875143, 2.416601494646653, 1.4065216374538256, 1.407574601228468, 5.472971813648282, 3.070803325712993, 6.46109601418858, 7.04297238553977, 5.390957616633306, 5.03860829754782, 2.4100922032722893, 2.537657235508374, 2.303921503245151, 2.7744739855644993, 2.628692563049697, 3.3669436637937005, 3.8788007014557793, 3.2488004932586323, 3.8399608600810216, 2.426022186573598, 3.0533185455605065, 2.864448495133845, 2.792831751395248, 2.4545975946949277, 2.1149606727974377, 1.097509264605125, 1.1131805747428731, 1.1147939806020974, 0.6040783813526812, 0.6040800569656727, 0.6040806853205445, 0.6040811740410004, 0.60408257038516, 0.6040836874604877, 0.6040844554497755, 0.6040851536218553, 0.6040857121595191, 0.604085921611143, 0.6040870386864707, 0.6040871783208868, 0.6040888539338782, 0.6040896219231661, 0.6040908088157018, 0.6040917164394055, 0.6040917862566134, 0.6040918560738214, 0.6040927636975252, 0.6040929731491491, 0.6040930429663571, 0.6040930429663571, 0.604093182600773, 0.604093182600773, 0.6040952771170125, 0.6040964640095482, 1.8008564053185685, 7.3967857751207875, 2.623463136371076, 2.6231632016455912, 7.824137463707884, 2.8608637057429385, 2.1223536169505066, 2.673336081451127, 5.459955888958632, 3.8969792783275046, 4.012382375549342, 5.384848212226062, 1.3034252753176665, 1.2781813277936944, 1.2857566344940086, 1.2918424608792642, 5.427076452301066, 2.536527028262428, 3.3724398020807156, 2.2161031863859844, 3.534947452451757, 2.398457076297599, 2.531124014171223, 4.0042779940469515, 2.288517873772325, 3.844630056514797, 3.9694045779294584, 4.188007841493448, 2.0472029328178207, 2.6058083193545984, 2.54779385001751, 1.8908426876094742, 1.8884302238049115, 2.318656426478987, 1.0907942186830413, 0.7544211751104466, 0.7545116227774652, 0.7546821711799446, 0.7554638220299379, 0.7563995506566656, 0.4135062861013736, 0.4136806002238417, 0.413740147870766, 0.41379564824854353, 0.4138652260842228, 0.413986960901428, 0.41407501540060326, 0.41423592074442, 0.41427857544186225, 0.41435786672349373, 0.4145714921471524, 0.4147479178883058, 0.41486813937878647, 0.41488042196080577, 0.41488281512864905, 0.4148795421196869, 0.41501014573537015, 0.41504628960853285, 0.41509725000613706, 0.4151954050813569, 0.41524425386027586, 0.41524270533990665, 0.4153573662345162, 0.41545833680131633, 1.1987659276214324, 1.200746485173626, 2.3657218682698096, 4.784471268062155, 0.8566194370141821, 0.8541156907390707, 0.8630508644311643, 2.6276042545172924, 1.3834409183306389, 3.627928423023684, 1.4423369197286668, 2.8287379051323014, 1.5732966950968383, 2.6275065569594545, 3.053855039225322, 1.7754349131077145, 2.0207358840164917, 1.1639596241212846, 1.2406891603510868, 1.2387850433952994, 1.2647048812076935, 1.3543302839102398, 1.6386529827005472, 1.9922238231060743, 2.0735381762125997, 1.7458193202723804, 1.521566260545368, 1.3656011190300983, 1.3908038511369785, 1.0519908321735671, 1.0952161593718417, 0.9885908888944612, 0.3504339700456042, 0.19241252303604242, 0.19264239698302996, 0.19275858643576602, 0.19291588428828144, 0.19292427928428382, 0.19292874758860765, 0.19301388909645106, 0.19302553376832532, 0.19309743284699082, 0.193187543650855, 0.658927623288646, 0.2389379158487781, 0.23286359462841627, 0.2329589726152561, 0.23292902143597025, 0.24314004463808178, 0.23743342424262387, 0.2382437850825432, 0.23808712362488604, 0.24059971884776388, 0.24076255468957763, 0.24097326908923716, 0.49047812888999515, 0.5151186878660428, 0.5177835845647829, 0.25945265925724675, 0.2609310722145291, 0.3104107724430287, 0.3156467043690762, 1.0114814381473785, 1.3796624568226303, 1.2729512253795694, 1.1073300863760147, 0.9056167472689437, 0.827547129896661, 0.8493187125292139, 0.6641776913047361, 0.6473032618885867, 0.8673042061259613, 0.4986829105313333, 0.613650864268418, 0.6651996060439153, 0.37373568964306697, 0.3733873785508653, 0.6591979963211869, 0.3954619392972071, 0.520082892727936, 0.5226050203333713, 0.4865807384555776, 0.3451517031577501, 0.33151562990919964, 0.3158000078283324, 0.406314150629474, 0.3518755262623729, 0.3502383395581167], \"Total\": [24.0, 22.0, 15.0, 22.0, 28.0, 19.0, 7.0, 24.0, 18.0, 5.0, 13.0, 18.0, 5.0, 13.0, 13.0, 5.0, 14.0, 4.0, 12.0, 8.0, 8.0, 12.0, 10.0, 6.0, 5.0, 4.0, 7.0, 8.0, 3.0, 3.0, 5.360607096295587, 2.498629935948699, 1.796984302546877, 1.8201602981485654, 1.8446739547527435, 1.8452177165121397, 1.9248916141265835, 1.926424960266971, 1.9297410916038815, 1.9335808772821461, 1.9721408591840284, 1.973299428255166, 1.9757211888569726, 1.9774787133653982, 1.9868434976371863, 1.9935935497146435, 1.132722088883731, 1.1327453510650562, 1.132765372989544, 1.1327713490707187, 1.1327790774924873, 1.1327844691192759, 1.1327947522190052, 1.132796736412919, 1.1328013758032875, 1.1328112151802152, 1.1328157262127803, 1.1328176473696066, 1.132821089580421, 1.1328947049847593, 5.352642171291493, 4.6447451677925065, 4.683341518648502, 7.375994969384043, 22.44730198625106, 15.580065781152948, 3.893382942989658, 13.649436487343287, 2.802768195642932, 2.8230120467909585, 20.8154279735007, 28.52754508434658, 6.780164490359145, 18.09044640112395, 11.094590092069785, 10.694867642898881, 24.98161848339831, 19.466180650964457, 24.169688828701293, 8.515232343162173, 5.507960805444732, 22.87571563589635, 5.045548520410998, 13.287219791523018, 13.597075790304002, 18.28765119935208, 14.354562456775884, 12.761670328757662, 12.604532600042777, 7.84030145046984, 8.28196799422573, 2.4370671854338597, 1.7199152431161586, 1.7199327225814371, 1.7199845044351483, 1.7425638941168535, 1.7486478561435073, 1.8152659117047178, 1.818259658899247, 1.818361666045505, 1.0945557898976106, 1.0945599439869103, 1.0945650429578244, 1.0945687619231326, 1.0945688941513092, 1.0945692265892912, 1.0945692265892912, 1.094573939155995, 1.0945823761257039, 1.094584104142954, 1.0945881206151096, 1.0945890709100565, 1.0945891127120666, 1.094589319768383, 1.0945896381665996, 1.094591719584461, 1.0945934024146218, 1.094593734852604, 1.0945960267413182, 1.0945986180400509, 1.094601344952039, 4.302114893692756, 4.455348410965505, 7.214080542663228, 3.637825794225303, 3.6774684669446684, 3.75013233949677, 4.52734362676114, 24.98161848339831, 4.446560647476844, 4.908744405606012, 2.812028516255174, 2.838508197963178, 4.6565667671548, 19.466180650964457, 14.354562456775884, 5.0589290904207935, 12.604532600042777, 11.094590092069785, 6.108894617480805, 2.974250958179461, 2.978321146464098, 18.28765119935208, 8.515232343162173, 24.169688828701293, 28.52754508434658, 20.8154279735007, 22.87571563589635, 6.389908011372625, 7.205060043022217, 6.07794731678416, 8.893284276140905, 8.0866772946022, 13.287219791523018, 18.09044640112395, 12.761670328757662, 22.44730198625106, 7.017450995531302, 15.580065781152948, 13.597075790304002, 13.649436487343287, 10.694867642898881, 2.9233782554751717, 1.6302945312659627, 1.697068136544487, 1.7039723314924364, 1.049788199466086, 1.049795527873739, 1.0497984024768856, 1.0498001934128451, 1.0498062426385744, 1.0498110212786436, 1.0498142513282562, 1.0498173679155955, 1.0498196721293611, 1.0498205631185542, 1.049825175004971, 1.0498258728469492, 1.0498328635817222, 1.0498363786453704, 1.0498413159104374, 1.0498451948367094, 1.0498453656451967, 1.0498457917804862, 1.04984971255821, 1.0498504697922568, 1.0498507655574794, 1.0498507655574794, 1.049851386775158, 1.049851583344385, 1.0498603492681138, 1.0498653645881122, 3.4064997952637803, 22.87571563589635, 6.4823396919475895, 6.648448230521783, 28.52754508434658, 7.757228379783248, 5.26772872356539, 7.123964665901801, 18.28765119935208, 12.761670328757662, 13.597075790304002, 20.8154279735007, 3.0172736577799175, 2.947217592471132, 2.977980612533101, 3.004728362302063, 24.169688828701293, 8.28196799422573, 12.604532600042777, 6.983679649745245, 14.354562456775884, 8.0866772946022, 8.893284276140905, 18.09044640112395, 7.84030145046984, 19.466180650964457, 22.44730198625106, 24.98161848339831, 7.214080542663228, 13.287219791523018, 13.649436487343287, 7.180024110843027, 7.168137524649431, 15.580065781152948, 2.0341357918020035, 1.5315892064569625, 1.5321661432708928, 1.5333144792155033, 1.5384969705773346, 1.5447782230318137, 1.0001490841364111, 1.001460727398246, 1.0018307566058722, 1.0020836560328588, 1.0025452204011898, 1.0033928349863845, 1.0039044977607172, 1.0049394387150272, 1.0052584815048093, 1.0058439653661617, 1.0071774851669322, 1.0083585791610163, 1.0091221958560483, 1.0092356181833029, 1.0092723351174178, 1.0092871774779069, 1.0101257066192753, 1.0104318990336063, 1.0106600056864479, 1.011278094191407, 1.0115863969572216, 1.0116719275571977, 1.0124339396601956, 1.0130744310104993, 3.198594886325914, 3.210656650941124, 7.123964665901801, 24.169688828701293, 2.6593854053879507, 2.687557743663934, 2.783305828771079, 13.287219791523018, 5.415436667094037, 22.87571563589635, 6.389908011372625, 19.466180650964457, 8.0866772946022, 18.09044640112395, 24.98161848339831, 10.694867642898881, 13.597075790304002, 6.217904436769631, 7.180024110843027, 7.168137524649431, 7.757228379783248, 8.893284276140905, 12.761670328757662, 22.44730198625106, 28.52754508434658, 18.28765119935208, 15.580065781152948, 13.649436487343287, 20.8154279735007, 8.28196799422573, 14.354562456775884, 12.604532600042777, 1.1112988978429623, 0.7900117137279381, 0.7931802083906945, 0.7948172441931818, 0.7970116206781657, 0.7971288330536799, 0.7972080775330572, 0.7983762991332315, 0.7985553622045979, 0.799556695114374, 0.8008338052802704, 5.094043847684221, 1.8909683340401426, 1.8530699345324435, 1.8542310134146756, 1.8540018333693244, 1.9483853408048604, 1.915336489364306, 1.9264166369826405, 1.9623177236256604, 1.9963765401152371, 1.9986005795087247, 2.0014628630237294, 4.63105933653383, 5.26772872356539, 5.507960805444732, 2.802768195642932, 2.8230120467909585, 3.971371244041907, 4.042546791125826, 15.580065781152948, 22.44730198625106, 28.52754508434658, 24.169688828701293, 19.466180650964457, 18.28765119935208, 22.87571563589635, 14.354562456775884, 13.649436487343287, 24.98161848339831, 8.28196799422573, 12.604532600042777, 18.09044640112395, 5.301036035265742, 5.296545650347024, 20.8154279735007, 6.108894617480805, 13.287219791523018, 13.597075790304002, 12.761670328757662, 4.9940465278772885, 4.52734362676114, 4.082627455432504, 10.694867642898881, 8.893284276140905, 11.094590092069785], \"Category\": [\"Default\", \"Default\", \"Default\", \"Default\", \"Default\", \"Default\", \"Default\", \"Default\", \"Default\", \"Default\", \"Default\", \"Default\", \"Default\", \"Default\", \"Default\", \"Default\", \"Default\", \"Default\", \"Default\", \"Default\", \"Default\", \"Default\", \"Default\", \"Default\", \"Default\", \"Default\", \"Default\", \"Default\", \"Default\", \"Default\", \"Topic1\", \"Topic1\", \"Topic1\", \"Topic1\", \"Topic1\", \"Topic1\", \"Topic1\", \"Topic1\", \"Topic1\", \"Topic1\", \"Topic1\", \"Topic1\", \"Topic1\", \"Topic1\", \"Topic1\", \"Topic1\", \"Topic1\", \"Topic1\", \"Topic1\", \"Topic1\", \"Topic1\", \"Topic1\", \"Topic1\", \"Topic1\", \"Topic1\", \"Topic1\", \"Topic1\", \"Topic1\", \"Topic1\", \"Topic1\", \"Topic1\", \"Topic1\", \"Topic1\", \"Topic1\", \"Topic1\", \"Topic1\", \"Topic1\", \"Topic1\", \"Topic1\", \"Topic1\", \"Topic1\", \"Topic1\", \"Topic1\", \"Topic1\", \"Topic1\", \"Topic1\", \"Topic1\", \"Topic1\", \"Topic1\", \"Topic1\", \"Topic1\", \"Topic1\", \"Topic1\", \"Topic1\", \"Topic1\", \"Topic1\", \"Topic1\", \"Topic1\", \"Topic1\", \"Topic1\", \"Topic1\", \"Topic2\", \"Topic2\", \"Topic2\", \"Topic2\", \"Topic2\", \"Topic2\", \"Topic2\", \"Topic2\", \"Topic2\", \"Topic2\", \"Topic2\", \"Topic2\", \"Topic2\", \"Topic2\", \"Topic2\", \"Topic2\", \"Topic2\", \"Topic2\", \"Topic2\", \"Topic2\", \"Topic2\", \"Topic2\", \"Topic2\", \"Topic2\", \"Topic2\", \"Topic2\", \"Topic2\", \"Topic2\", \"Topic2\", \"Topic2\", \"Topic2\", \"Topic2\", \"Topic2\", \"Topic2\", \"Topic2\", \"Topic2\", \"Topic2\", \"Topic2\", \"Topic2\", \"Topic2\", \"Topic2\", \"Topic2\", \"Topic2\", \"Topic2\", \"Topic2\", \"Topic2\", \"Topic2\", \"Topic2\", \"Topic2\", \"Topic2\", \"Topic2\", \"Topic2\", \"Topic2\", \"Topic2\", \"Topic2\", \"Topic2\", \"Topic2\", \"Topic2\", \"Topic2\", \"Topic2\", \"Topic2\", \"Topic2\", \"Topic2\", \"Topic2\", \"Topic2\", \"Topic2\", \"Topic2\", \"Topic2\", \"Topic2\", \"Topic2\", \"Topic2\", \"Topic3\", \"Topic3\", \"Topic3\", \"Topic3\", \"Topic3\", \"Topic3\", \"Topic3\", \"Topic3\", \"Topic3\", \"Topic3\", \"Topic3\", \"Topic3\", \"Topic3\", \"Topic3\", \"Topic3\", \"Topic3\", \"Topic3\", \"Topic3\", \"Topic3\", \"Topic3\", \"Topic3\", \"Topic3\", \"Topic3\", \"Topic3\", \"Topic3\", \"Topic3\", \"Topic3\", \"Topic3\", \"Topic3\", \"Topic3\", \"Topic3\", \"Topic3\", \"Topic3\", \"Topic3\", \"Topic3\", \"Topic3\", \"Topic3\", \"Topic3\", \"Topic3\", \"Topic3\", \"Topic3\", \"Topic3\", \"Topic3\", \"Topic3\", \"Topic3\", \"Topic3\", \"Topic3\", \"Topic3\", \"Topic3\", \"Topic3\", \"Topic3\", \"Topic3\", \"Topic3\", \"Topic3\", \"Topic3\", \"Topic3\", \"Topic3\", \"Topic3\", \"Topic3\", \"Topic3\", \"Topic3\", \"Topic3\", \"Topic3\", \"Topic3\", \"Topic4\", \"Topic4\", \"Topic4\", \"Topic4\", \"Topic4\", \"Topic4\", \"Topic4\", \"Topic4\", \"Topic4\", \"Topic4\", \"Topic4\", \"Topic4\", \"Topic4\", \"Topic4\", \"Topic4\", \"Topic4\", \"Topic4\", \"Topic4\", \"Topic4\", \"Topic4\", \"Topic4\", \"Topic4\", \"Topic4\", \"Topic4\", \"Topic4\", \"Topic4\", \"Topic4\", \"Topic4\", \"Topic4\", \"Topic4\", \"Topic4\", \"Topic4\", \"Topic4\", \"Topic4\", \"Topic4\", \"Topic4\", \"Topic4\", \"Topic4\", \"Topic4\", \"Topic4\", \"Topic4\", \"Topic4\", \"Topic4\", \"Topic4\", \"Topic4\", \"Topic4\", \"Topic4\", \"Topic4\", \"Topic4\", \"Topic4\", \"Topic4\", \"Topic4\", \"Topic4\", \"Topic4\", \"Topic4\", \"Topic4\", \"Topic4\", \"Topic4\", \"Topic4\", \"Topic4\", \"Topic4\", \"Topic4\", \"Topic5\", \"Topic5\", \"Topic5\", \"Topic5\", \"Topic5\", \"Topic5\", \"Topic5\", \"Topic5\", \"Topic5\", \"Topic5\", \"Topic5\", \"Topic5\", \"Topic5\", \"Topic5\", \"Topic5\", \"Topic5\", \"Topic5\", \"Topic5\", \"Topic5\", \"Topic5\", \"Topic5\", \"Topic5\", \"Topic5\", \"Topic5\", \"Topic5\", \"Topic5\", \"Topic5\", \"Topic5\", \"Topic5\", \"Topic5\", \"Topic5\", \"Topic5\", \"Topic5\", \"Topic5\", \"Topic5\", \"Topic5\", \"Topic5\", \"Topic5\", \"Topic5\", \"Topic5\", \"Topic5\", \"Topic5\", \"Topic5\", \"Topic5\", \"Topic5\", \"Topic5\", \"Topic5\", \"Topic5\", \"Topic5\", \"Topic5\", \"Topic5\", \"Topic5\", \"Topic5\", \"Topic5\", \"Topic5\", \"Topic5\"], \"logprob\": [30.0, 29.0, 28.0, 27.0, 26.0, 25.0, 24.0, 23.0, 22.0, 21.0, 20.0, 19.0, 18.0, 17.0, 16.0, 15.0, 14.0, 13.0, 12.0, 11.0, 10.0, 9.0, 8.0, 7.0, 6.0, 5.0, 4.0, 3.0, 2.0, 1.0, -4.5847, -5.4018, -5.7786, -5.7736, -5.7684, -5.7683, -5.7516, -5.7513, -5.7506, -5.7498, -5.7418, -5.7416, -5.7411, -5.7407, -5.7388, -5.7374, -6.3759, -6.3759, -6.3759, -6.3759, -6.3759, -6.3758, -6.3758, -6.3758, -6.3758, -6.3758, -6.3758, -6.3758, -6.3758, -6.3758, -4.8329, -5.0293, -5.0254, -4.6104, -3.6136, -3.9974, -5.2795, -4.1955, -5.6091, -5.6054, -3.9572, -3.7019, -4.8958, -4.1017, -4.5046, -4.5801, -3.9969, -4.3078, -4.1807, -4.8419, -5.1152, -4.2498, -5.1695, -4.6082, -4.6058, -4.4707, -4.6091, -4.7853, -4.8052, -5.044, -5.1445, -5.3134, -5.6982, -5.6982, -5.6982, -5.6933, -5.692, -5.678, -5.6774, -5.6773, -6.2953, -6.2953, -6.2953, -6.2953, -6.2953, -6.2953, -6.2953, -6.2953, -6.2953, -6.2953, -6.2953, -6.2953, -6.2953, -6.2953, -6.2953, -6.2953, -6.2953, -6.2953, -6.2953, -6.2953, -6.2953, -4.9634, -4.9562, -4.5538, -5.2114, -5.2171, -5.2076, -5.0984, -3.6645, -5.1673, -5.1011, -5.542, -5.5372, -5.1616, -4.0487, -4.2943, -5.1025, -4.446, -4.5503, -5.0006, -5.5418, -5.5411, -4.1831, -4.761, -4.0172, -3.9309, -4.1982, -4.2658, -5.0033, -4.9517, -5.0483, -4.8625, -4.9165, -4.6689, -4.5274, -4.7047, -4.5375, -4.9967, -4.7667, -4.8306, -4.8559, -4.985, -4.9543, -5.6103, -5.5961, -5.5947, -6.2074, -6.2074, -6.2074, -6.2074, -6.2074, -6.2074, -6.2074, -6.2074, -6.2074, -6.2074, -6.2074, -6.2074, -6.2074, -6.2074, -6.2074, -6.2074, -6.2074, -6.2074, -6.2074, -6.2074, -6.2074, -6.2074, -6.2074, -6.2074, -6.2073, -6.2073, -5.1151, -3.7023, -4.7388, -4.7389, -3.6461, -4.6522, -4.9508, -4.72, -4.0059, -4.3431, -4.3139, -4.0197, -5.4383, -5.4579, -5.452, -5.4473, -4.0119, -4.7725, -4.4877, -4.9076, -4.4406, -4.8285, -4.7747, -4.316, -4.8754, -4.3566, -4.3247, -4.2711, -4.9869, -4.7456, -4.7681, -5.0663, -5.0676, -4.8623, -4.9314, -5.3001, -5.3, -5.2998, -5.2987, -5.2975, -5.9014, -5.901, -5.9008, -5.9007, -5.9005, -5.9002, -5.9, -5.8996, -5.8995, -5.8993, -5.8988, -5.8984, -5.8981, -5.8981, -5.8981, -5.8981, -5.8978, -5.8977, -5.8976, -5.8973, -5.8972, -5.8972, -5.8969, -5.8967, -4.837, -4.8354, -4.1572, -3.4529, -5.1731, -5.176, -5.1656, -4.0522, -4.6937, -3.7296, -4.652, -3.9785, -4.5651, -4.0523, -3.9019, -4.4443, -4.3148, -4.8665, -4.8026, -4.8042, -4.7835, -4.715, -4.5244, -4.3291, -4.2891, -4.4611, -4.5986, -4.7067, -4.6884, -4.9676, -4.9274, -5.0298, -5.1117, -5.7112, -5.71, -5.7094, -5.7086, -5.7086, -5.7085, -5.7081, -5.708, -5.7077, -5.7072, -4.4803, -5.4947, -5.5204, -5.52, -5.5201, -5.4772, -5.501, -5.4976, -5.4982, -5.4877, -5.4871, -5.4862, -4.7755, -4.7265, -4.7213, -5.4123, -5.4066, -5.233, -5.2162, -4.0517, -3.7413, -3.8218, -3.9612, -4.1623, -4.2524, -4.2264, -4.4723, -4.4981, -4.2055, -4.7589, -4.5514, -4.4708, -5.0473, -5.0483, -4.4798, -4.9908, -4.7169, -4.712, -4.7835, -5.1269, -5.1672, -5.2158, -4.9637, -5.1076, -5.1123], \"loglift\": [30.0, 29.0, 28.0, 27.0, 26.0, 25.0, 24.0, 23.0, 22.0, 21.0, 20.0, 19.0, 18.0, 17.0, 16.0, 15.0, 14.0, 13.0, 12.0, 11.0, 10.0, 9.0, 8.0, 7.0, 6.0, 5.0, 4.0, 3.0, 2.0, 1.0, 0.8955, 0.8418, 0.7946, 0.7867, 0.7785, 0.7784, 0.7528, 0.7524, 0.7513, 0.7501, 0.7383, 0.738, 0.7373, 0.7367, 0.7339, 0.7319, 0.6588, 0.6588, 0.6588, 0.6588, 0.6588, 0.6588, 0.6588, 0.6588, 0.6588, 0.6588, 0.6587, 0.6587, 0.6587, 0.6587, 0.6488, 0.5943, 0.5899, 0.5507, 0.4345, 0.4159, 0.5205, 0.3501, 0.5196, 0.516, 0.1664, 0.1065, 0.3495, 0.1622, 0.2482, 0.2094, -0.0557, -0.1172, -0.2065, 0.1755, 0.3379, -0.2206, 0.3713, -0.0358, -0.0564, -0.2176, -0.1139, -0.1724, -0.1799, 0.056, -0.0993, 0.955, 0.9188, 0.9188, 0.9188, 0.9106, 0.9084, 0.8851, 0.8841, 0.884, 0.7736, 0.7736, 0.7736, 0.7736, 0.7736, 0.7736, 0.7736, 0.7736, 0.7736, 0.7736, 0.7736, 0.7736, 0.7736, 0.7736, 0.7736, 0.7736, 0.7736, 0.7736, 0.7736, 0.7736, 0.7736, 0.7367, 0.709, 0.6295, 0.6565, 0.6399, 0.6299, 0.5508, 0.2767, 0.4999, 0.4671, 0.5834, 0.5789, 0.4594, 0.1419, 0.2009, 0.4357, 0.1792, 0.2026, 0.349, 0.5275, 0.5268, 0.0699, 0.2564, -0.043, -0.1225, -0.0746, -0.2366, 0.3013, 0.2328, 0.3063, 0.1115, 0.1526, -0.0965, -0.2635, -0.0918, -0.4894, 0.2142, -0.3534, -0.2811, -0.3103, -0.1955, 1.1323, 1.0603, 1.0343, 1.0317, 0.9033, 0.9033, 0.9033, 0.9033, 0.9033, 0.9033, 0.9033, 0.9033, 0.9033, 0.9033, 0.9033, 0.9033, 0.9033, 0.9033, 0.9033, 0.9033, 0.9033, 0.9033, 0.9033, 0.9033, 0.9033, 0.9033, 0.9033, 0.9033, 0.9033, 0.9033, 0.8185, 0.3269, 0.5514, 0.526, 0.1623, 0.4585, 0.5469, 0.4758, 0.2472, 0.2697, 0.2355, 0.1039, 0.6166, 0.6205, 0.6161, 0.6118, -0.0377, 0.2727, 0.1375, 0.3081, 0.0546, 0.2406, 0.1993, -0.0521, 0.2246, -0.166, -0.2766, -0.3299, 0.1964, -0.1731, -0.2225, 0.1217, 0.1221, -0.449, 1.5178, 1.4329, 1.4326, 1.4321, 1.4298, 1.4269, 1.2578, 1.2569, 1.2566, 1.2565, 1.2562, 1.2557, 1.2554, 1.2547, 1.2545, 1.2541, 1.2533, 1.2526, 1.2521, 1.252, 1.252, 1.252, 1.2515, 1.2512, 1.2511, 1.2508, 1.2506, 1.2505, 1.25, 1.2496, 1.1596, 1.1575, 1.0386, 0.5213, 1.0081, 0.9947, 0.9701, 0.5203, 0.7763, 0.2996, 0.6525, 0.2121, 0.5039, 0.2116, 0.0392, 0.3453, 0.2346, 0.4654, 0.3853, 0.3855, 0.3272, 0.259, 0.0884, -0.2809, -0.4806, -0.208, -0.1853, -0.1611, -0.5648, 0.0776, -0.4321, -0.4045, 1.9421, 1.6838, 1.681, 1.6795, 1.6776, 1.6775, 1.6774, 1.6764, 1.6762, 1.6753, 1.6742, 1.051, 1.0275, 1.022, 1.0218, 1.0218, 1.0151, 1.0084, 1.0061, 0.9869, 0.9802, 0.9798, 0.9792, 0.851, 0.7712, 0.7318, 0.7164, 0.7149, 0.5472, 0.5462, 0.3616, 0.3068, -0.0134, 0.013, 0.0284, 0.0007, -0.1972, 0.0229, 0.0475, -0.2643, 0.2863, 0.0738, -0.2069, 0.4441, 0.444, -0.3562, 0.3587, -0.1444, -0.1626, -0.1706, 0.4242, 0.482, 0.5368, -0.1742, -0.1336, -0.3594]}, \"token.table\": {\"Topic\": [1, 2, 3, 4, 2, 3, 1, 2, 1, 2, 3, 4, 3, 1, 2, 3, 3, 1, 1, 2, 3, 1, 1, 1, 3, 3, 2, 2, 3, 3, 1, 2, 3, 4, 5, 3, 1, 2, 3, 4, 2, 2, 1, 2, 2, 1, 2, 3, 4, 5, 3, 1, 1, 2, 3, 1, 2, 3, 1, 2, 3, 4, 1, 2, 3, 4, 1, 2, 3, 4, 1, 3, 1, 2, 3, 4, 1, 2, 3, 1, 1, 2, 3, 4, 2, 1, 1, 2, 3, 1, 2, 3, 1, 2, 1, 3, 4, 3, 1, 2, 4, 2, 1, 2, 3, 4, 5, 2, 1, 2, 3, 4, 3, 4, 2, 1, 2, 3, 4, 5, 1, 2, 3, 5, 2, 2, 1, 2, 3, 1, 2, 3, 4, 3, 1, 2, 3, 4, 1, 1, 2, 3, 1, 2, 3, 4, 5, 2, 3, 1, 2, 1, 2, 3, 4, 2, 3, 1, 2, 3, 4, 1, 2, 3, 4, 5, 4, 2, 1, 1, 2, 3, 4, 2, 2, 2, 1, 2, 3, 4, 5, 1, 3, 1, 2, 3, 3, 3, 1, 2, 1, 2, 1, 2, 3, 5, 1, 2, 3, 4, 3, 3, 1, 1, 2, 3, 4, 1, 1, 2, 2, 4, 1, 2, 3, 4, 1, 2, 3, 5, 2, 1, 2, 3, 4, 5, 3, 3, 1, 2, 3, 4, 3, 1, 1, 3, 4, 1, 2, 3, 4, 5, 1, 2, 2, 1, 1, 2, 3, 4, 1, 2, 3, 4, 5, 1, 2, 3, 1, 2, 3, 3, 3, 1, 2, 3, 4, 1, 1, 2, 3, 4, 2, 1, 2, 3, 4, 1, 2, 3, 2, 1, 2, 3, 1, 1, 2, 3, 4, 5, 1, 1, 2, 3, 1, 1, 2, 3, 4, 5, 3, 3, 1, 2, 3, 4, 5, 2, 2, 1, 2, 3, 1, 1, 2, 3, 1, 2, 2, 1, 2, 2, 3, 1, 2, 3, 4, 5, 2, 2, 1, 1, 4, 1, 2, 3, 4, 3, 2, 1, 1, 2, 3, 4, 5, 1, 3, 4, 3, 4, 1, 3, 2, 3, 3, 1, 2, 4, 2, 1, 3, 3, 1, 3, 1, 2, 1, 1, 1, 2, 3, 4, 4, 4, 4, 2, 1, 2, 3, 4, 1], \"Freq\": [0.14037127454974724, 0.14037127454974724, 0.42111382364924166, 0.2807425490994945, 0.3357596279324052, 0.3357596279324052, 0.5604708672831301, 0.18682362242771003, 0.15649677557489416, 0.31299355114978833, 0.15649677557489416, 0.15649677557489416, 0.952539550211553, 0.19767029387573837, 0.39534058775147674, 0.19767029387573837, 0.9525325741740385, 0.5182042318272146, 0.2666572561901082, 0.5333145123802164, 0.952556728455537, 0.8828109504574498, 0.7135802393894428, 0.4996345515445839, 0.9525166000048357, 0.9525249052832196, 0.9135846494570236, 0.9135904449142694, 0.9525163316607116, 0.9525213859320829, 0.4900366202912708, 0.1781951346513712, 0.1781951346513712, 0.0890975673256856, 0.0445487836628428, 0.9525466338830842, 0.4506700976337928, 0.36053607810703425, 0.18026803905351713, 0.09013401952675856, 0.9135746129051356, 0.5393737924102667, 0.2719261929744906, 0.5438523859489812, 0.9135974868642321, 0.5134766510214303, 0.19255374413303636, 0.12836916275535756, 0.12836916275535756, 0.06418458137767878, 0.9525638423916519, 0.5009075091326594, 0.4318666323755038, 0.2159333161877519, 0.2159333161877519, 0.32905846262882704, 0.32905846262882704, 0.16452923131441352, 0.23507894520983505, 0.23507894520983505, 0.3134385936131134, 0.1567192968065567, 0.4424671413600306, 0.1474890471200102, 0.2949780942400204, 0.1474890471200102, 0.2775826971680703, 0.4163740457521055, 0.2775826971680703, 0.13879134858403516, 0.33280878649338314, 0.33280878649338314, 0.3085305761566946, 0.1542652880783473, 0.46279586423504193, 0.1542652880783473, 0.22489291820801766, 0.4497858364160353, 0.22489291820801766, 0.8827672894472643, 0.22488879674808587, 0.3373331951221288, 0.3373331951221288, 0.11244439837404294, 0.9136049122286211, 0.7084631474645982, 0.4898806030755321, 0.24494030153776605, 0.24494030153776605, 0.13861780362530152, 0.5544712145012061, 0.27723560725060303, 0.4295009821628771, 0.4295009821628771, 0.3114627656329664, 0.3114627656329664, 0.3114627656329664, 0.952538917037899, 0.5061442908240189, 0.35561517040791496, 0.35561517040791496, 0.5396450405701038, 0.3010411555434584, 0.2257808666575938, 0.2257808666575938, 0.2257808666575938, 0.0752602888858646, 0.9135848222739007, 0.28638197917239194, 0.28638197917239194, 0.28638197917239194, 0.14319098958619597, 0.5871129077361742, 0.2935564538680871, 0.9135809644796278, 0.3505383996566576, 0.24537687975966033, 0.28043071972532607, 0.07010767993133152, 0.03505383996566576, 0.5446661851759074, 0.18155539505863577, 0.18155539505863577, 0.18155539505863577, 0.5499456014021441, 0.9135790516041461, 0.15041103808392264, 0.3008220761678453, 0.45123311425176793, 0.3523098230442336, 0.3523098230442336, 0.1174366076814112, 0.1174366076814112, 0.9525445431706273, 0.27855059664488707, 0.27855059664488707, 0.27855059664488707, 0.13927529832244354, 0.5494021603576247, 0.22444933768564534, 0.673348013056936, 0.9525155896935651, 0.3202354565344295, 0.3602648886012332, 0.16011772826721474, 0.12008829620041106, 0.040029432066803684, 0.3314250258413057, 0.3314250258413057, 0.513692084566497, 0.2568460422832485, 0.22088007503759985, 0.4417601500751997, 0.22088007503759985, 0.22088007503759985, 0.6973314460751012, 0.23244381535836708, 0.3963890133866129, 0.19819450669330646, 0.19819450669330646, 0.19819450669330646, 0.2622868764195013, 0.2185723970162511, 0.30600135582275156, 0.1748579176130009, 0.043714479403250225, 0.6526707331263593, 0.8206585407057415, 0.5564878883931784, 0.382638348659441, 0.25509223243962736, 0.25509223243962736, 0.12754611621981368, 0.913609168226568, 0.9135843837101966, 0.5190985069389282, 0.2786570480322688, 0.348321310040336, 0.2786570480322688, 0.0696642620080672, 0.0696642620080672, 0.5056944447700966, 0.6841400001023529, 0.5422997191027142, 0.13557492977567856, 0.13557492977567856, 0.9525622173387611, 0.9525172870345991, 0.5421012192553226, 0.9135768888421988, 0.5016067593833943, 0.5814239998176832, 0.18983513625644027, 0.18983513625644027, 0.37967027251288055, 0.18983513625644027, 0.2414884966223511, 0.2414884966223511, 0.36223274493352664, 0.12074424831117556, 0.9525208443270985, 0.5892515323728641, 0.8827519272000702, 0.25180219590406233, 0.5036043918081247, 0.25180219590406233, 0.649985030275842, 0.8827561066292674, 0.8826945660527673, 0.9136126355820969, 0.3522977318570254, 0.3522977318570254, 0.37401117372928855, 0.18700558686464427, 0.18700558686464427, 0.18700558686464427, 0.39261538765694187, 0.19630769382847094, 0.19630769382847094, 0.19630769382847094, 0.5221014717533506, 0.2734085392101719, 0.2734085392101719, 0.2734085392101719, 0.10936341568406875, 0.054681707842034376, 0.5868639892316461, 0.6133860973105737, 0.2790125040322539, 0.2790125040322539, 0.2790125040322539, 0.13950625201612696, 0.9525523925077725, 0.8827546095543196, 0.3126372784109138, 0.3126372784109138, 0.3126372784109138, 0.4395785866737883, 0.21978929333689415, 0.21978929333689415, 0.07326309777896473, 0.07326309777896473, 0.8827804646522794, 0.9135812419424846, 0.9135890026312667, 0.5190962641292897, 0.12366018372805514, 0.37098055118416545, 0.24732036745611027, 0.24732036745611027, 0.23800961885645952, 0.31734615847527936, 0.23800961885645952, 0.07933653961881984, 0.07933653961881984, 0.18864236978345117, 0.37728473956690234, 0.18864236978345117, 0.6405682754619455, 0.21352275848731517, 0.9525076365605456, 0.9525212309580816, 0.9525664507500855, 0.1636957359091556, 0.3273914718183112, 0.1636957359091556, 0.1636957359091556, 0.8827906892422384, 0.2578240451463779, 0.2578240451463779, 0.38673606771956687, 0.12891202257318896, 0.9136014202738263, 0.20371808294967525, 0.4074361658993505, 0.20371808294967525, 0.20371808294967525, 0.18880229984130903, 0.37760459968261806, 0.18880229984130903, 0.5738670492233564, 0.8827596219030311, 0.3362191066123418, 0.3362191066123418, 0.5419414690480081, 0.2941809004883519, 0.2206356753662639, 0.2941809004883519, 0.14709045024417594, 0.07354522512208797, 0.5195097701403559, 0.4004768455471513, 0.4004768455471513, 0.20023842277357565, 0.8827846663743064, 0.38694456979044445, 0.22111118273739683, 0.22111118273739683, 0.16583338705304762, 0.05527779568434921, 0.9525437347401928, 0.9525494617116983, 0.38433031548448027, 0.24020644717780018, 0.24020644717780018, 0.04804128943556003, 0.04804128943556003, 0.9135848571634158, 0.5508834785868364, 0.8828290803311469, 0.9135856503157048, 0.9525157680380962, 0.5067654638121604, 0.2473688126987655, 0.494737625397531, 0.2473688126987655, 0.8827724510915357, 0.5393071266554005, 0.5814180908768953, 0.5096014717496197, 0.5814005867037768, 0.5497789375111932, 0.2748894687555966, 0.2482448178180537, 0.2482448178180537, 0.20687068151504473, 0.20687068151504473, 0.04137413630300895, 0.5499764541910303, 0.9136014202738263, 0.5070631721578697, 0.35928498753639765, 0.35928498753639765, 0.28500377149389367, 0.28500377149389367, 0.28500377149389367, 0.14250188574694683, 0.9525030863289069, 0.9136018081157575, 0.5003501000914398, 0.30822687344693517, 0.30822687344693517, 0.2054845822979568, 0.15411343672346758, 0.0513711455744892, 0.7461841407411064, 0.37602673082810284, 0.37602673082810284, 0.9525731004678774, 0.49160926425374896, 0.8827953465428101, 0.5288295853497732, 0.9135826464863348, 0.5132454956712562, 0.9525163316607116, 0.5033109055591092, 0.37208502863149834, 0.37208502863149834, 0.9136016977491082, 0.3393030777756512, 0.3393030777756512, 0.9525293849031261, 0.33579802225421124, 0.33579802225421124, 0.6458911935153163, 0.21529706450510544, 0.5171751602165235, 0.8827709048373239, 0.18465731601595986, 0.3693146320319197, 0.18465731601595986, 0.18465731601595986, 0.6521819323793476, 0.6529165887198356, 0.6473421136384091, 0.5718704291928818, 0.32165177518216315, 0.32165177518216315, 0.16082588759108157, 0.16082588759108157, 0.8004386608938248], \"Term\": [\"\", \"\", \"\", \"\", \")\", \")\", \"1\", \"1\", \"2\", \"2\", \"2\", \"2\", \"21\", \"3\", \"3\", \"3\", \"30\", \"359\", \"4\", \"4\", \"500\", \":15\", \"G\", \"Shabushi\", \"Terminal\", \"VAT 7\", \"xx\", \"\\u0e01\\u0e25\\u0e22\\u0e38\\u0e17\\u0e18\\u0e4c\", \"\\u0e01\\u0e32\\u0e23\\u0e07\\u0e14\\u0e23\\u0e31\\u0e1a\", \"\\u0e01\\u0e32\\u0e41\\u0e1f\", \"\\u0e01\\u0e34\\u0e19\", \"\\u0e01\\u0e34\\u0e19\", \"\\u0e01\\u0e34\\u0e19\", \"\\u0e01\\u0e34\\u0e19\", \"\\u0e01\\u0e34\\u0e19\", \"\\u0e01\\u0e35\\u0e49\", \"\\u0e01\\u0e38\\u0e49\\u0e07\", \"\\u0e01\\u0e38\\u0e49\\u0e07\", \"\\u0e01\\u0e38\\u0e49\\u0e07\", \"\\u0e01\\u0e38\\u0e49\\u0e07\", \"\\u0e02\\u0e19\\u0e32\\u0e14\", \"\\u0e02\\u0e22\\u0e31\\u0e19\", \"\\u0e02\\u0e49\\u0e32\\u0e27\", \"\\u0e02\\u0e49\\u0e32\\u0e27\", \"\\u0e04\\u0e13\\u0e30\", \"\\u0e04\\u0e19\", \"\\u0e04\\u0e19\", \"\\u0e04\\u0e19\", \"\\u0e04\\u0e19\", \"\\u0e04\\u0e19\", \"\\u0e04\\u0e23\\u0e35\\u0e21\", \"\\u0e04\\u0e23\\u0e36\\u0e48\\u0e07\", \"\\u0e04\\u0e34\\u0e27\", \"\\u0e04\\u0e34\\u0e27\", \"\\u0e04\\u0e34\\u0e27\", \"\\u0e04\\u0e38\\u0e13\\u0e20\\u0e32\\u0e1e\", \"\\u0e04\\u0e38\\u0e13\\u0e20\\u0e32\\u0e1e\", \"\\u0e04\\u0e38\\u0e13\\u0e20\\u0e32\\u0e1e\", \"\\u0e04\\u0e38\\u0e49\\u0e21\", \"\\u0e04\\u0e38\\u0e49\\u0e21\", \"\\u0e04\\u0e38\\u0e49\\u0e21\", \"\\u0e04\\u0e38\\u0e49\\u0e21\", \"\\u0e04\\u0e48\\u0e30\", \"\\u0e04\\u0e48\\u0e30\", \"\\u0e04\\u0e48\\u0e30\", \"\\u0e04\\u0e48\\u0e30\", \"\\u0e04\\u0e48\\u0e32\", \"\\u0e04\\u0e48\\u0e32\", \"\\u0e04\\u0e48\\u0e32\", \"\\u0e04\\u0e48\\u0e32\", \"\\u0e07\\u0e32\\u0e19\", \"\\u0e07\\u0e32\\u0e19\", \"\\u0e08\\u0e34\\u0e49\\u0e21\", \"\\u0e08\\u0e34\\u0e49\\u0e21\", \"\\u0e08\\u0e34\\u0e49\\u0e21\", \"\\u0e08\\u0e34\\u0e49\\u0e21\", \"\\u0e08\\u0e48\\u0e32\\u0e22\", \"\\u0e08\\u0e48\\u0e32\\u0e22\", \"\\u0e08\\u0e48\\u0e32\\u0e22\", \"\\u0e0a\\u0e2d\\u0e04\\u0e42\\u0e01\\u0e41\\u0e25\\u0e15\", \"\\u0e0a\\u0e2d\\u0e1a\", \"\\u0e0a\\u0e2d\\u0e1a\", \"\\u0e0a\\u0e2d\\u0e1a\", \"\\u0e0a\\u0e2d\\u0e1a\", \"\\u0e0a\\u0e2d\\u0e1b\", \"\\u0e0a\\u0e31\\u0e48\\u0e27\\u0e42\\u0e21\\u0e07\", \"\\u0e0a\\u0e31\\u0e49\\u0e19\", \"\\u0e0a\\u0e31\\u0e49\\u0e19\", \"\\u0e0a\\u0e31\\u0e49\\u0e19\", \"\\u0e0a\\u0e32\\u0e1a\\u0e39\", \"\\u0e0a\\u0e32\\u0e1a\\u0e39\", \"\\u0e0a\\u0e32\\u0e1a\\u0e39\", \"\\u0e0a\\u0e32\\u0e1a\\u0e39\\u0e0a\\u0e34\", \"\\u0e0a\\u0e32\\u0e1a\\u0e39\\u0e0a\\u0e34\", \"\\u0e0a\\u0e32\\u0e1a\\u0e39\\u0e19\\u0e49\\u0e33\\u0e14\\u0e33\", \"\\u0e0a\\u0e32\\u0e1a\\u0e39\\u0e19\\u0e49\\u0e33\\u0e14\\u0e33\", \"\\u0e0a\\u0e32\\u0e1a\\u0e39\\u0e19\\u0e49\\u0e33\\u0e14\\u0e33\", \"\\u0e0a\\u0e32\\u0e1a\\u0e39\\u0e40\\u0e1f\\u0e23\\u0e19\\u0e44\\u0e0a\\u0e2a\\u0e4c\\u0e23\\u0e2a\\u0e0a\\u0e32\\u0e15\\u0e34\", \"\\u0e0a\\u0e37\\u0e48\\u0e19\", \"\\u0e0a\\u0e37\\u0e48\\u0e2d\", \"\\u0e0a\\u0e37\\u0e48\\u0e2d\", \"\\u0e0a\\u0e39\\u0e0a\\u0e34\", \"\\u0e0b\\u0e38\\u0e1b\", \"\\u0e0b\\u0e38\\u0e1b\", \"\\u0e0b\\u0e38\\u0e1b\", \"\\u0e0b\\u0e38\\u0e1b\", \"\\u0e0b\\u0e38\\u0e1b\", \"\\u0e0b\\u0e38\\u0e49\\u0e21\", \"\\u0e0b\\u0e39\\u0e0a\\u0e34\", \"\\u0e0b\\u0e39\\u0e0a\\u0e34\", \"\\u0e0b\\u0e39\\u0e0a\\u0e34\", \"\\u0e0b\\u0e39\\u0e0a\\u0e34\", \"\\u0e0d\\u0e35\\u0e48\\u0e1b\\u0e38\\u0e48\\u0e19\", \"\\u0e0d\\u0e35\\u0e48\\u0e1b\\u0e38\\u0e48\\u0e19\", \"\\u0e14\\u0e33\", \"\\u0e14\\u0e35\", \"\\u0e14\\u0e35\", \"\\u0e14\\u0e35\", \"\\u0e14\\u0e35\", \"\\u0e14\\u0e35\", \"\\u0e14\\u0e39\", \"\\u0e14\\u0e39\", \"\\u0e14\\u0e39\", \"\\u0e14\\u0e39\", \"\\u0e14\\u0e49\\u0e27\\u0e22\", \"\\u0e15\\u0e23\\u0e07\\u0e02\\u0e49\\u0e32\\u0e21\", \"\\u0e15\\u0e2d\\u0e19\", \"\\u0e15\\u0e2d\\u0e19\", \"\\u0e15\\u0e2d\\u0e19\", \"\\u0e15\\u0e31\\u0e27\", \"\\u0e15\\u0e31\\u0e27\", \"\\u0e15\\u0e31\\u0e27\", \"\\u0e15\\u0e31\\u0e27\", \"\\u0e15\\u0e33\\u0e04\\u0e23\\u0e31\\u0e1a\", \"\\u0e15\\u0e34\\u0e21\", \"\\u0e15\\u0e34\\u0e21\", \"\\u0e15\\u0e34\\u0e21\", \"\\u0e15\\u0e34\\u0e21\", \"\\u0e15\\u0e49\\u0e2d\\u0e07\\u0e01\\u0e32\\u0e23\", \"\\u0e17\\u0e2d\\u0e14\", \"\\u0e17\\u0e2d\\u0e14\", \"\\u0e17\\u0e31\\u0e48\\u0e27\\u0e44\\u0e1b\", \"\\u0e17\\u0e32\\u0e19\", \"\\u0e17\\u0e32\\u0e19\", \"\\u0e17\\u0e32\\u0e19\", \"\\u0e17\\u0e32\\u0e19\", \"\\u0e17\\u0e32\\u0e19\", \"\\u0e17\\u0e49\\u0e32\\u0e22\", \"\\u0e17\\u0e49\\u0e32\\u0e22\", \"\\u0e18\\u0e23\\u0e23\\u0e21\\u0e14\\u0e32\", \"\\u0e18\\u0e23\\u0e23\\u0e21\\u0e14\\u0e32\", \"\\u0e19\\u0e31\\u0e48\\u0e07\", \"\\u0e19\\u0e31\\u0e48\\u0e07\", \"\\u0e19\\u0e31\\u0e48\\u0e07\", \"\\u0e19\\u0e31\\u0e48\\u0e07\", \"\\u0e19\\u0e36\\u0e01\", \"\\u0e19\\u0e36\\u0e01\", \"\\u0e19\\u0e38\\u0e48\\u0e21\", \"\\u0e19\\u0e38\\u0e48\\u0e21\", \"\\u0e19\\u0e38\\u0e48\\u0e21\", \"\\u0e19\\u0e38\\u0e48\\u0e21\", \"\\u0e19\\u0e49\\u0e33\", \"\\u0e19\\u0e49\\u0e33\", \"\\u0e19\\u0e49\\u0e33\", \"\\u0e19\\u0e49\\u0e33\", \"\\u0e19\\u0e49\\u0e33\", \"\\u0e19\\u0e49\\u0e33\\u0e08\\u0e34\\u0e49\\u0e21\", \"\\u0e19\\u0e49\\u0e33\\u0e0b\\u0e38\\u0e1b\", \"\\u0e19\\u0e4d\\u0e49\\u0e32\", \"\\u0e1a\\u0e23\\u0e34\\u0e01\\u0e32\\u0e23\", \"\\u0e1a\\u0e23\\u0e34\\u0e01\\u0e32\\u0e23\", \"\\u0e1a\\u0e23\\u0e34\\u0e01\\u0e32\\u0e23\", \"\\u0e1a\\u0e23\\u0e34\\u0e01\\u0e32\\u0e23\", \"\\u0e1a\\u0e23\\u0e34\\u0e40\\u0e27\\u0e13\", \"\\u0e1a\\u0e31\\u0e15\\u0e23\", \"\\u0e1a\\u0e32\\u0e07\\u0e01\\u0e30\\u0e1b\\u0e34\", \"\\u0e1a\\u0e32\\u0e17\", \"\\u0e1a\\u0e32\\u0e17\", \"\\u0e1a\\u0e32\\u0e17\", \"\\u0e1a\\u0e32\\u0e17\", \"\\u0e1a\\u0e32\\u0e17\", \"\\u0e1a\\u0e34\\u0e25\", \"\\u0e1a\\u0e38\\u0e1f\\u0e40\\u0e1f\\u0e48\", \"\\u0e1a\\u0e38\\u0e1f\\u0e40\\u0e1f\\u0e48\\u0e15\\u0e4c\", \"\\u0e1a\\u0e38\\u0e1f\\u0e40\\u0e1f\\u0e48\\u0e15\\u0e4c\", \"\\u0e1a\\u0e38\\u0e1f\\u0e40\\u0e1f\\u0e48\\u0e15\\u0e4c\", \"\\u0e1a\\u0e4a\\u0e27\\u0e22\", \"\\u0e1b\\u0e01\\u0e15\\u0e34\", \"\\u0e1b\\u0e23\\u0e30\\u0e17\\u0e31\\u0e1a\\u0e43\\u0e08\", \"\\u0e1b\\u0e23\\u0e31\\u0e1a\\u0e1b\\u0e23\\u0e38\\u0e07\", \"\\u0e1b\\u0e2d\\u0e01\", \"\\u0e1b\\u0e38\\u0e23\\u0e30\", \"\\u0e1c\\u0e31\\u0e01\", \"\\u0e1c\\u0e31\\u0e01\", \"\\u0e1c\\u0e31\\u0e01\", \"\\u0e1c\\u0e31\\u0e01\", \"\\u0e1e\\u0e19\\u0e31\\u0e01\\u0e07\\u0e32\\u0e19\", \"\\u0e1e\\u0e19\\u0e31\\u0e01\\u0e07\\u0e32\\u0e19\", \"\\u0e1e\\u0e19\\u0e31\\u0e01\\u0e07\\u0e32\\u0e19\", \"\\u0e1e\\u0e19\\u0e31\\u0e01\\u0e07\\u0e32\\u0e19\", \"\\u0e1e\\u0e23\\u0e35\\u0e40\\u0e21\\u0e35\\u0e22\\u0e21\", \"\\u0e1e\\u0e2d\\u0e19\\u0e0b\\u0e36\", \"\\u0e1e\\u0e2d\\u0e2a\\u0e21\\u0e04\\u0e27\\u0e23\", \"\\u0e1e\\u0e32\\u0e19\", \"\\u0e1e\\u0e32\\u0e19\", \"\\u0e1e\\u0e32\\u0e19\", \"\\u0e1f\\u0e39\\u0e01\\u0e38\", \"\\u0e21\\u0e30\\u0e19\\u0e32\\u0e27\", \"\\u0e21\\u0e35\\u0e48\", \"\\u0e22\\u0e2d\\u0e14\", \"\\u0e23\\u0e2a\", \"\\u0e23\\u0e2a\", \"\\u0e23\\u0e2a\\u0e0a\\u0e32\\u0e15\\u0e34\", \"\\u0e23\\u0e2a\\u0e0a\\u0e32\\u0e15\\u0e34\", \"\\u0e23\\u0e2a\\u0e0a\\u0e32\\u0e15\\u0e34\", \"\\u0e23\\u0e2a\\u0e0a\\u0e32\\u0e15\\u0e34\", \"\\u0e23\\u0e2d\", \"\\u0e23\\u0e2d\", \"\\u0e23\\u0e2d\", \"\\u0e23\\u0e2d\", \"\\u0e23\\u0e2d\\u0e1a\", \"\\u0e23\\u0e32\\u0e04\\u0e32\", \"\\u0e23\\u0e32\\u0e04\\u0e32\", \"\\u0e23\\u0e32\\u0e04\\u0e32\", \"\\u0e23\\u0e32\\u0e04\\u0e32\", \"\\u0e23\\u0e32\\u0e04\\u0e32\", \"\\u0e23\\u0e32\\u0e22\\u0e25\\u0e30\\u0e40\\u0e2d\\u0e35\\u0e22\\u0e14\", \"\\u0e23\\u0e49\\u0e2d\\u0e19\", \"\\u0e25\\u0e2d\\u0e07\", \"\\u0e25\\u0e2d\\u0e07\", \"\\u0e25\\u0e2d\\u0e07\", \"\\u0e25\\u0e2d\\u0e07\", \"\\u0e25\\u0e38\\u0e22\", \"\\u0e27\\u0e19\\u0e34\\u0e25\\u0e32 \", \"\\u0e27\\u0e31\\u0e27\", \"\\u0e27\\u0e31\\u0e27\", \"\\u0e27\\u0e31\\u0e27\", \"\\u0e2a\\u0e14\", \"\\u0e2a\\u0e14\", \"\\u0e2a\\u0e14\", \"\\u0e2a\\u0e14\", \"\\u0e2a\\u0e14\", \"\\u0e2a\\u0e15\\u0e2d\\u0e40\\u0e1a\\u0e2d\\u0e23\\u0e4c\\u0e23\\u0e35\\u0e48\", \"\\u0e2a\\u0e21\\u0e32\\u0e0a\\u0e34\\u0e01\", \"\\u0e2a\\u0e25\\u0e31\\u0e14\", \"\\u0e2a\\u0e30\\u0e2d\\u0e32\\u0e14\", \"\\u0e2a\\u0e31\\u0e48\\u0e07\", \"\\u0e2a\\u0e31\\u0e48\\u0e07\", \"\\u0e2a\\u0e31\\u0e48\\u0e07\", \"\\u0e2a\\u0e31\\u0e48\\u0e07\", \"\\u0e2a\\u0e32\\u0e02\\u0e32\", \"\\u0e2a\\u0e32\\u0e02\\u0e32\", \"\\u0e2a\\u0e32\\u0e02\\u0e32\", \"\\u0e2a\\u0e32\\u0e02\\u0e32\", \"\\u0e2a\\u0e32\\u0e02\\u0e32\", \"\\u0e2a\\u0e32\\u0e22\", \"\\u0e2a\\u0e32\\u0e22\", \"\\u0e2a\\u0e32\\u0e22\", \"\\u0e2a\\u0e33\\u0e2b\\u0e23\\u0e31\\u0e1a\", \"\\u0e2a\\u0e33\\u0e2b\\u0e23\\u0e31\\u0e1a\", \"\\u0e2a\\u0e38\\u0e01\\u0e35\\u0e49\\u0e22\\u0e32\", \"\\u0e2a\\u0e39\\u0e49\", \"\\u0e2a\\u0e48\\u0e07\\u0e19\", \"\\u0e2b\\u0e19\\u0e49\\u0e32\", \"\\u0e2b\\u0e19\\u0e49\\u0e32\", \"\\u0e2b\\u0e19\\u0e49\\u0e32\", \"\\u0e2b\\u0e19\\u0e49\\u0e32\", \"\\u0e2b\\u0e21\\u0e38\\u0e2a\\u0e44\\u0e25\\u0e14\\u0e4c\", \"\\u0e2b\\u0e21\\u0e39\", \"\\u0e2b\\u0e21\\u0e39\", \"\\u0e2b\\u0e21\\u0e39\", \"\\u0e2b\\u0e21\\u0e39\", \"\\u0e2b\\u0e21\\u0e39\\u0e48\", \"\\u0e2b\\u0e21\\u0e49\\u0e2d\", \"\\u0e2b\\u0e21\\u0e49\\u0e2d\", \"\\u0e2b\\u0e21\\u0e49\\u0e2d\", \"\\u0e2b\\u0e21\\u0e49\\u0e2d\", \"\\u0e2b\\u0e22\\u0e34\\u0e1a\", \"\\u0e2b\\u0e22\\u0e34\\u0e1a\", \"\\u0e2b\\u0e22\\u0e34\\u0e1a\", \"\\u0e2b\\u0e25\\u0e31\\u0e01\", \"\\u0e2b\\u0e25\\u0e32\\u0e01\\u0e23\\u0e2a\", \"\\u0e2b\\u0e25\\u0e32\\u0e01\\u0e2b\\u0e25\\u0e32\\u0e22\", \"\\u0e2b\\u0e25\\u0e32\\u0e01\\u0e2b\\u0e25\\u0e32\\u0e22\", \"\\u0e2b\\u0e27\\u0e22\", \"\\u0e2b\\u0e27\\u0e32\\u0e19\", \"\\u0e2b\\u0e27\\u0e32\\u0e19\", \"\\u0e2b\\u0e27\\u0e32\\u0e19\", \"\\u0e2b\\u0e27\\u0e32\\u0e19\", \"\\u0e2b\\u0e27\\u0e32\\u0e19\", \"\\u0e2b\\u0e32\", \"\\u0e2b\\u0e49\\u0e32\\u0e07\", \"\\u0e2b\\u0e49\\u0e32\\u0e07\", \"\\u0e2b\\u0e49\\u0e32\\u0e07\", \"\\u0e2d\\u0e22\\u0e38\\u0e48\", \"\\u0e2d\\u0e23\\u0e48\\u0e2d\\u0e22\", \"\\u0e2d\\u0e23\\u0e48\\u0e2d\\u0e22\", \"\\u0e2d\\u0e23\\u0e48\\u0e2d\\u0e22\", \"\\u0e2d\\u0e23\\u0e48\\u0e2d\\u0e22\", \"\\u0e2d\\u0e23\\u0e48\\u0e2d\\u0e22\", \"\\u0e2d\\u0e2d\\u0e23\\u0e4c\\u0e40\\u0e14\\u0e2d\\u0e23\\u0e4c\", \"\\u0e2d\\u0e2d\\u0e2a\\u0e40\\u0e15\\u0e23\\u0e40\\u0e25\\u0e35\\u0e22\", \"\\u0e2d\\u0e32\\u0e2b\\u0e32\\u0e23\", \"\\u0e2d\\u0e32\\u0e2b\\u0e32\\u0e23\", \"\\u0e2d\\u0e32\\u0e2b\\u0e32\\u0e23\", \"\\u0e2d\\u0e32\\u0e2b\\u0e32\\u0e23\", \"\\u0e2d\\u0e32\\u0e2b\\u0e32\\u0e23\", \"\\u0e2d\\u0e34\\u0e2d\\u0e34\", \"\\u0e2d\\u0e34\\u0e48\\u0e21\", \"\\u0e2f\", \"\\u0e40\\u0e04\\u0e32\\u0e19\\u0e4c\\u0e40\\u0e15\\u0e2d\\u0e23\\u0e4c\", \"\\u0e40\\u0e08\\u0e2d\", \"\\u0e40\\u0e0a\\u0e47\\u0e04\", \"\\u0e40\\u0e14\\u0e2d\\u0e30\\u0e21\\u0e2d\\u0e25\\u0e25\\u0e4c\", \"\\u0e40\\u0e14\\u0e2d\\u0e30\\u0e21\\u0e2d\\u0e25\\u0e25\\u0e4c\", \"\\u0e40\\u0e14\\u0e2d\\u0e30\\u0e21\\u0e2d\\u0e25\\u0e25\\u0e4c\", \"\\u0e40\\u0e14\\u0e2d\\u0e30\\u0e41\\u0e01\\u0e07\\u0e04\\u0e4c\", \"\\u0e40\\u0e14\\u0e34\\u0e19\", \"\\u0e40\\u0e15\\u0e34\\u0e21\", \"\\u0e40\\u0e15\\u0e47\\u0e21\", \"\\u0e40\\u0e17\\u0e21\", \"\\u0e40\\u0e17\\u0e21\\u0e1b\\u0e38\\u0e23\\u0e30\", \"\\u0e40\\u0e17\\u0e21\\u0e1b\\u0e38\\u0e23\\u0e30\", \"\\u0e40\\u0e19\\u0e37\\u0e49\\u0e2d\", \"\\u0e40\\u0e19\\u0e37\\u0e49\\u0e2d\", \"\\u0e40\\u0e19\\u0e37\\u0e49\\u0e2d\", \"\\u0e40\\u0e19\\u0e37\\u0e49\\u0e2d\", \"\\u0e40\\u0e19\\u0e37\\u0e49\\u0e2d\", \"\\u0e40\\u0e1a\", \"\\u0e40\\u0e1a\\u0e32\", \"\\u0e40\\u0e1b\\u0e25\\u0e37\\u0e2d\\u0e01\", \"\\u0e40\\u0e1b\\u0e47\\u0e14\", \"\\u0e40\\u0e1b\\u0e47\\u0e14\", \"\\u0e40\\u0e21\\u0e19\\u0e39\", \"\\u0e40\\u0e21\\u0e19\\u0e39\", \"\\u0e40\\u0e21\\u0e19\\u0e39\", \"\\u0e40\\u0e21\\u0e19\\u0e39\", \"\\u0e40\\u0e23\\u0e34\\u0e48\\u0e21\\u0e07\\u0e27\\u0e14\", \"\\u0e40\\u0e25\\u0e22\", \"\\u0e40\\u0e25\\u0e34\\u0e01\", \"\\u0e40\\u0e25\\u0e37\\u0e2d\\u0e01\", \"\\u0e40\\u0e25\\u0e37\\u0e2d\\u0e01\", \"\\u0e40\\u0e25\\u0e37\\u0e2d\\u0e01\", \"\\u0e40\\u0e25\\u0e37\\u0e2d\\u0e01\", \"\\u0e40\\u0e25\\u0e37\\u0e2d\\u0e01\", \"\\u0e40\\u0e27\\u0e25\\u0e32\", \"\\u0e40\\u0e2a\\u0e34\\u0e23\\u0e4c\\u0e1f\", \"\\u0e40\\u0e2a\\u0e34\\u0e23\\u0e4c\\u0e1f\", \"\\u0e40\\u0e2b\\u0e27\\u0e35\\u0e48\\u0e22\\u0e07\", \"\\u0e40\\u0e2b\\u0e47\\u0e14\", \"\\u0e40\\u0e2d\\u0e22\", \"\\u0e41\\u0e1e\\u0e07\", \"\\u0e41\\u0e21\\u0e04\\u0e42\\u0e14\\u0e19\\u0e31\\u0e25\", \"\\u0e42\\u0e0a\\u0e04\", \"\\u0e42\\u0e0a\\u0e22\\u0e38\\u0e2b\\u0e27\\u0e32\\u0e19\", \"\\u0e42\\u0e14\\u0e19\", \"\\u0e42\\u0e15\\u0e4a\\u0e30\", \"\\u0e42\\u0e15\\u0e4a\\u0e30\", \"\\u0e42\\u0e19\\u0e49\\u0e19\", \"\\u0e42\\u0e1b\\u0e23\\u0e42\\u0e21\\u0e0a\\u0e31\\u0e48\\u0e19\", \"\\u0e42\\u0e1b\\u0e23\\u0e42\\u0e21\\u0e0a\\u0e31\\u0e48\\u0e19\", \"\\u0e42\\u0e2d\\u0e01\\u0e32\\u0e2a\", \"\\u0e42\\u0e2d\\u0e40\\u0e04\", \"\\u0e42\\u0e2d\\u0e40\\u0e04\", \"\\u0e43\\u0e08\", \"\\u0e43\\u0e08\", \"\\u0e43\\u0e2a\\u0e48\", \"\\u0e43\\u0e2b\\u0e21\\u0e48\", \"\\u0e44\\u0e01\\u0e48\", \"\\u0e44\\u0e01\\u0e48\", \"\\u0e44\\u0e01\\u0e48\", \"\\u0e44\\u0e01\\u0e48\", \"\\u0e44\\u0e14\", \"\\u0e44\\u0e1c\\u0e48\", \"\\u0e44\\u0e21\\u0e49\", \"\\u0e44\\u0e25\\u0e19\\u0e4c\", \"\\u0e44\\u0e2d\", \"\\u0e44\\u0e2d\", \"\\u0e44\\u0e2d\", \"\\u0e44\\u0e2d\", \"\\u200b \"]}, \"R\": 30, \"lambda.step\": 0.01, \"plot.opts\": {\"xlab\": \"PC1\", \"ylab\": \"PC2\"}, \"topic.order\": [5, 4, 1, 3, 2]};\n",
              "\n",
              "function LDAvis_load_lib(url, callback){\n",
              "  var s = document.createElement('script');\n",
              "  s.src = url;\n",
              "  s.async = true;\n",
              "  s.onreadystatechange = s.onload = callback;\n",
              "  s.onerror = function(){console.warn(\"failed to load library \" + url);};\n",
              "  document.getElementsByTagName(\"head\")[0].appendChild(s);\n",
              "}\n",
              "\n",
              "if(typeof(LDAvis) !== \"undefined\"){\n",
              "   // already loaded: just create the visualization\n",
              "   !function(LDAvis){\n",
              "       new LDAvis(\"#\" + \"ldavis_el2031405703758588965855587539\", ldavis_el2031405703758588965855587539_data);\n",
              "   }(LDAvis);\n",
              "}else if(typeof define === \"function\" && define.amd){\n",
              "   // require.js is available: use it to load d3/LDAvis\n",
              "   require.config({paths: {d3: \"https://d3js.org/d3.v5\"}});\n",
              "   require([\"d3\"], function(d3){\n",
              "      window.d3 = d3;\n",
              "      LDAvis_load_lib(\"https://cdn.jsdelivr.net/gh/bmabey/pyLDAvis@3.3.1/pyLDAvis/js/ldavis.v3.0.0.js\", function(){\n",
              "        new LDAvis(\"#\" + \"ldavis_el2031405703758588965855587539\", ldavis_el2031405703758588965855587539_data);\n",
              "      });\n",
              "    });\n",
              "}else{\n",
              "    // require.js not available: dynamically load d3 & LDAvis\n",
              "    LDAvis_load_lib(\"https://d3js.org/d3.v5.js\", function(){\n",
              "         LDAvis_load_lib(\"https://cdn.jsdelivr.net/gh/bmabey/pyLDAvis@3.3.1/pyLDAvis/js/ldavis.v3.0.0.js\", function(){\n",
              "                 new LDAvis(\"#\" + \"ldavis_el2031405703758588965855587539\", ldavis_el2031405703758588965855587539_data);\n",
              "            })\n",
              "         });\n",
              "}\n",
              "</script>"
            ],
            "text/plain": [
              "PreparedData(topic_coordinates=              x         y  topics  cluster       Freq\n",
              "topic                                                \n",
              "4     -0.057089  0.002533       1        1  32.500727\n",
              "3      0.027425  0.043027       2        1  27.905696\n",
              "0      0.023277 -0.039720       3        1  23.317467\n",
              "2      0.011579 -0.008419       4        1  11.753931\n",
              "1     -0.005192  0.002579       5        1   4.522179, topic_info=       Term       Freq      Total Category  logprob  loglift\n",
              "37    เนื้อ  24.000000  24.000000  Default  30.0000  30.0000\n",
              "3       กิน  22.000000  22.000000  Default  29.0000  29.0000\n",
              "97       คน  15.000000  15.000000  Default  28.0000  28.0000\n",
              "16      น้ำ  22.000000  22.000000  Default  27.0000  27.0000\n",
              "11       ดี  28.000000  28.000000  Default  26.0000  26.0000\n",
              "..      ...        ...        ...      ...      ...      ...\n",
              "117    นั่ง   0.331516   4.527344   Topic5  -5.1672   0.4820\n",
              "320    ชั้น   0.315800   4.082627   Topic5  -5.2158   0.5368\n",
              "22   รสชาติ   0.406314  10.694868   Topic5  -4.9637  -0.1742\n",
              "105     ชอบ   0.351876   8.893284   Topic5  -5.1076  -0.1336\n",
              "254    กุ้ง   0.350238  11.094590   Topic5  -5.1123  -0.3594\n",
              "\n",
              "[344 rows x 6 columns], token_table=      Topic      Freq Term\n",
              "term                      \n",
              "90        1  0.140371     \n",
              "90        2  0.140371     \n",
              "90        3  0.421114     \n",
              "90        4  0.280743     \n",
              "202       2  0.335760    )\n",
              "...     ...       ...  ...\n",
              "45        1  0.321652   ไอ\n",
              "45        2  0.321652   ไอ\n",
              "45        3  0.160826   ไอ\n",
              "45        4  0.160826   ไอ\n",
              "46        1  0.800439   ​ \n",
              "\n",
              "[381 rows x 3 columns], R=30, lambda_step=0.01, plot_opts={'xlab': 'PC1', 'ylab': 'PC2'}, topic_order=[5, 4, 1, 3, 2])"
            ]
          },
          "metadata": {
            "tags": []
          },
          "execution_count": 15
        }
      ]
    },
    {
      "cell_type": "code",
      "metadata": {
        "colab": {
          "base_uri": "https://localhost:8080/"
        },
        "id": "jFYDpkuR8ue1",
        "outputId": "9bcb043e-08a6-4799-a801-3b533bde38f3"
      },
      "source": [
        "model.show_topic(3)"
      ],
      "execution_count": null,
      "outputs": [
        {
          "output_type": "execute_result",
          "data": {
            "text/plain": [
              "[('ทาน', 0.025617354),\n",
              " ('ดี', 0.019625567),\n",
              " ('เนื้อ', 0.018004142),\n",
              " ('เลือก', 0.017444903),\n",
              " ('ราคา', 0.015250688),\n",
              " ('อาหาร', 0.015022152),\n",
              " ('น้ำ', 0.014040315),\n",
              " ('บาท', 0.013645972),\n",
              " ('สาขา', 0.011725525),\n",
              " ('อร่อย', 0.010808457)]"
            ]
          },
          "metadata": {
            "tags": []
          },
          "execution_count": 30
        }
      ]
    },
    {
      "cell_type": "code",
      "metadata": {
        "id": "vshxB_6VFCID"
      },
      "source": [
        "df['topics'] = df['Review_tokenized'].apply(lambda x: model.get_document_topics(dictionary.doc2bow(x.split(',')))[0][0])\n",
        "df['score'] = df['Review_tokenized'].apply(lambda x: model.get_document_topics(dictionary.doc2bow(x.split(',')))[0][1])\n",
        "df['topic_name'] = df['Review_tokenized'].apply(lambda x: model.show_topic(model.get_document_topics(dictionary.doc2bow(x.split(',')))[0][0]))\n",
        "df['topic_name2'] = df['topic_name'].apply(lambda x:convert_to_topic(x))\n"
      ],
      "execution_count": null,
      "outputs": []
    },
    {
      "cell_type": "code",
      "metadata": {
        "colab": {
          "base_uri": "https://localhost:8080/",
          "height": 1000
        },
        "id": "D52NWgUzDLSl",
        "outputId": "d90a8131-3d00-4661-e27f-4035a4d47fa0"
      },
      "source": [
        "df[['Restaurant', 'Review', 'topics','topic_name2','score']]"
      ],
      "execution_count": null,
      "outputs": [
        {
          "output_type": "execute_result",
          "data": {
            "text/html": [
              "<div>\n",
              "<style scoped>\n",
              "    .dataframe tbody tr th:only-of-type {\n",
              "        vertical-align: middle;\n",
              "    }\n",
              "\n",
              "    .dataframe tbody tr th {\n",
              "        vertical-align: top;\n",
              "    }\n",
              "\n",
              "    .dataframe thead th {\n",
              "        text-align: right;\n",
              "    }\n",
              "</style>\n",
              "<table border=\"1\" class=\"dataframe\">\n",
              "  <thead>\n",
              "    <tr style=\"text-align: right;\">\n",
              "      <th></th>\n",
              "      <th>Restaurant</th>\n",
              "      <th>Review</th>\n",
              "      <th>topics</th>\n",
              "      <th>topic_name2</th>\n",
              "      <th>score</th>\n",
              "    </tr>\n",
              "  </thead>\n",
              "  <tbody>\n",
              "    <tr>\n",
              "      <th>0</th>\n",
              "      <td>Mo-Mo-Paradise (โม โม พาราไดซ์) เดอะมอลล์ บางกะปิ</td>\n",
              "      <td>ที่สำคัญของร้านนี้คือบริการดีมากพนักงานน่ารักส...</td>\n",
              "      <td>4</td>\n",
              "      <td>[กิน, ดี, อาหาร, ทาน, คน, อร่อย, เนื้อ, สด, น้...</td>\n",
              "      <td>0.998441</td>\n",
              "    </tr>\n",
              "    <tr>\n",
              "      <th>1</th>\n",
              "      <td>Mo-Mo-Paradise (โม โม พาราไดซ์) เดอะมอลล์ บางกะปิ</td>\n",
              "      <td>นึกถึงชาบูญี่ปุ่นยังไงก็ต้อง คิดถึงโมโม่ พาราไ...</td>\n",
              "      <td>0</td>\n",
              "      <td>[ดี, น้ำ, ราคา, เนื้อ, อาหาร, ทาน, หวาน, อร่อย...</td>\n",
              "      <td>0.997820</td>\n",
              "    </tr>\n",
              "    <tr>\n",
              "      <th>2</th>\n",
              "      <td>Mo-Mo-Paradise (โม โม พาราไดซ์) เดอะมอลล์ บางกะปิ</td>\n",
              "      <td>มาทานช่วงนี้ สามารถนั่งโต๊ะเดียวกัน หม้อเดียวก...</td>\n",
              "      <td>2</td>\n",
              "      <td>[เนื้อ, น้ำ, ทาน, เลือก, ซุป, อร่อย, , ดี, หวา...</td>\n",
              "      <td>0.999161</td>\n",
              "    </tr>\n",
              "    <tr>\n",
              "      <th>3</th>\n",
              "      <td>Mo-Mo-Paradise (โม โม พาราไดซ์) เดอะมอลล์ บางกะปิ</td>\n",
              "      <td>ถ้านึกถึงชาบูที่มีเนื้อเน้นๆ ในราคาไม่โหดจนเกิ...</td>\n",
              "      <td>3</td>\n",
              "      <td>[ทาน, ดี, เนื้อ, เลือก, ราคา, อาหาร, น้ำ, บาท,...</td>\n",
              "      <td>0.996670</td>\n",
              "    </tr>\n",
              "    <tr>\n",
              "      <th>4</th>\n",
              "      <td>Mo-Mo-Paradise (โม โม พาราไดซ์) เดอะมอลล์ บางกะปิ</td>\n",
              "      <td>เดินมาหน้าร้านแล้วได้กลิ่นชาบูหอมมาก ๆ  ประกอบ...</td>\n",
              "      <td>3</td>\n",
              "      <td>[ทาน, ดี, เนื้อ, เลือก, ราคา, อาหาร, น้ำ, บาท,...</td>\n",
              "      <td>0.997436</td>\n",
              "    </tr>\n",
              "    <tr>\n",
              "      <th>5</th>\n",
              "      <td>Mo-Mo-Paradise (โม โม พาราไดซ์) เดอะมอลล์ บางกะปิ</td>\n",
              "      <td>ร้านบุฟเฟ่ ชาบูแนวญี่ปุ่น สายเนื้อหมู เนื้อวัว...</td>\n",
              "      <td>0</td>\n",
              "      <td>[ดี, น้ำ, ราคา, เนื้อ, อาหาร, ทาน, หวาน, อร่อย...</td>\n",
              "      <td>0.996964</td>\n",
              "    </tr>\n",
              "    <tr>\n",
              "      <th>6</th>\n",
              "      <td>Mo-Mo-Paradise (โม โม พาราไดซ์) เดอะมอลล์ บางกะปิ</td>\n",
              "      <td>Number 20 : โมโม – พาราไดส์ (สาขาเดอะมอลบางกะป...</td>\n",
              "      <td>0</td>\n",
              "      <td>[ดี, น้ำ, ราคา, เนื้อ, อาหาร, ทาน, หวาน, อร่อย...</td>\n",
              "      <td>0.998033</td>\n",
              "    </tr>\n",
              "    <tr>\n",
              "      <th>7</th>\n",
              "      <td>Mo-Mo-Paradise (โม โม พาราไดซ์) เดอะมอลล์ บางกะปิ</td>\n",
              "      <td>ร้านชาบูเฟรนไชส์รสชาติดีมากคุ้มค่าเหมาะสมกับรา...</td>\n",
              "      <td>0</td>\n",
              "      <td>[ดี, น้ำ, ราคา, เนื้อ, อาหาร, ทาน, หวาน, อร่อย...</td>\n",
              "      <td>0.998107</td>\n",
              "    </tr>\n",
              "    <tr>\n",
              "      <th>8</th>\n",
              "      <td>Shabushi (ชาบูชิ) เดอะมอลล์บางกะปิ ชั้น G</td>\n",
              "      <td>มา านที่ขาบูชิต้องมาตอนหิว ไม่งั้นจะไม่คุ้มนะค...</td>\n",
              "      <td>0</td>\n",
              "      <td>[ดี, น้ำ, ราคา, เนื้อ, อาหาร, ทาน, หวาน, อร่อย...</td>\n",
              "      <td>0.997053</td>\n",
              "    </tr>\n",
              "    <tr>\n",
              "      <th>9</th>\n",
              "      <td>Shabushi (ชาบูชิ) เดอะมอลล์บางกะปิ ชั้น G</td>\n",
              "      <td>ใครชอบกุ้งทอดเทมปุระ แค่กุ้งเทมปุระก็คุ้มแล้ว ...</td>\n",
              "      <td>3</td>\n",
              "      <td>[ทาน, ดี, เนื้อ, เลือก, ราคา, อาหาร, น้ำ, บาท,...</td>\n",
              "      <td>0.997915</td>\n",
              "    </tr>\n",
              "    <tr>\n",
              "      <th>10</th>\n",
              "      <td>Shabushi (ชาบูชิ) เดอะมอลล์บางกะปิ ชั้น G</td>\n",
              "      <td>กลับมาอัพเดทราคาชาบูชิ ตอนนี้อยู่ที่ 399 บาท n...</td>\n",
              "      <td>3</td>\n",
              "      <td>[ทาน, ดี, เนื้อ, เลือก, ราคา, อาหาร, น้ำ, บาท,...</td>\n",
              "      <td>0.996971</td>\n",
              "    </tr>\n",
              "    <tr>\n",
              "      <th>11</th>\n",
              "      <td>Shabushi (ชาบูชิ) เดอะมอลล์บางกะปิ ชั้น G</td>\n",
              "      <td>ห่างหายไปนานสำหรับชาบูชิ ตั้งแต่ทางร้านได้ปรับ...</td>\n",
              "      <td>4</td>\n",
              "      <td>[กิน, ดี, อาหาร, ทาน, คน, อร่อย, เนื้อ, สด, น้...</td>\n",
              "      <td>0.999489</td>\n",
              "    </tr>\n",
              "    <tr>\n",
              "      <th>12</th>\n",
              "      <td>Shabushi (ชาบูชิ) เดอะมอลล์บางกะปิ ชั้น G</td>\n",
              "      <td>เมื่อหลายวันก่อนนัดหาข้าวทานกับเดอะแกงค์ และก็...</td>\n",
              "      <td>4</td>\n",
              "      <td>[กิน, ดี, อาหาร, ทาน, คน, อร่อย, เนื้อ, สด, น้...</td>\n",
              "      <td>0.997132</td>\n",
              "    </tr>\n",
              "    <tr>\n",
              "      <th>13</th>\n",
              "      <td>Shabushi (ชาบูชิ) เดอะมอลล์บางกะปิ ชั้น G</td>\n",
              "      <td>บอกตรงๆว่าหลายครั้งที่เลือกจะกินบุฟเฟต์จะต้องอ...</td>\n",
              "      <td>1</td>\n",
              "      <td>[กิน, ดี, เนื้อ, คน, เลือก, ทาน, น้ำ, ราคา, อร...</td>\n",
              "      <td>0.997817</td>\n",
              "    </tr>\n",
              "    <tr>\n",
              "      <th>14</th>\n",
              "      <td>Shabushi (ชาบูชิ) เดอะมอลล์บางกะปิ ชั้น G</td>\n",
              "      <td>สวัสดีครับวันนี้จะขอมารีวิวร้านชาบูชิ บุฟเฟขวั...</td>\n",
              "      <td>4</td>\n",
              "      <td>[กิน, ดี, อาหาร, ทาน, คน, อร่อย, เนื้อ, สด, น้...</td>\n",
              "      <td>0.996699</td>\n",
              "    </tr>\n",
              "    <tr>\n",
              "      <th>15</th>\n",
              "      <td>Shabushi (ชาบูชิ) เดอะมอลล์บางกะปิ ชั้น G</td>\n",
              "      <td>ชาบูชิ สาขาเดอะมอลล์บางกะปิ ตั้งอยู่ประตูหน้าห...</td>\n",
              "      <td>3</td>\n",
              "      <td>[ทาน, ดี, เนื้อ, เลือก, ราคา, อาหาร, น้ำ, บาท,...</td>\n",
              "      <td>0.998945</td>\n",
              "    </tr>\n",
              "    <tr>\n",
              "      <th>16</th>\n",
              "      <td>ข้าน้อยขอชาบู</td>\n",
              "      <td>หลังจากที่เคยลองสาขายูเนี่ยนมอลล์ไป รอบนี้มาที...</td>\n",
              "      <td>3</td>\n",
              "      <td>[ทาน, ดี, เนื้อ, เลือก, ราคา, อาหาร, น้ำ, บาท,...</td>\n",
              "      <td>0.998682</td>\n",
              "    </tr>\n",
              "    <tr>\n",
              "      <th>17</th>\n",
              "      <td>ข้าน้อยขอชาบู</td>\n",
              "      <td>ร้านบุฟเฟ่ต์ที่มีโปรโมชั่นหัวละ199บาท ไม่รวมน้...</td>\n",
              "      <td>4</td>\n",
              "      <td>[กิน, ดี, อาหาร, ทาน, คน, อร่อย, เนื้อ, สด, น้...</td>\n",
              "      <td>0.998268</td>\n",
              "    </tr>\n",
              "    <tr>\n",
              "      <th>18</th>\n",
              "      <td>ข้าน้อยขอชาบู</td>\n",
              "      <td>เคยรู้จักร้านนี้จากที่ union mall ไม่เคยได้ลอง...</td>\n",
              "      <td>3</td>\n",
              "      <td>[ทาน, ดี, เนื้อ, เลือก, ราคา, อาหาร, น้ำ, บาท,...</td>\n",
              "      <td>0.997368</td>\n",
              "    </tr>\n",
              "    <tr>\n",
              "      <th>19</th>\n",
              "      <td>ข้าน้อยขอชาบู</td>\n",
              "      <td>อร่อยมากค่ะ คุ้มค่าสมราคา บุฟเฟ่หมูผักต่างๆ รว...</td>\n",
              "      <td>0</td>\n",
              "      <td>[ดี, น้ำ, ราคา, เนื้อ, อาหาร, ทาน, หวาน, อร่อย...</td>\n",
              "      <td>0.997820</td>\n",
              "    </tr>\n",
              "    <tr>\n",
              "      <th>20</th>\n",
              "      <td>ข้าน้อยขอชาบู</td>\n",
              "      <td>ก็ตามที่เขียนเลยครับ ว่า ถ้าจะจ่ายในราคา 199 บ...</td>\n",
              "      <td>0</td>\n",
              "      <td>[ดี, น้ำ, ราคา, เนื้อ, อาหาร, ทาน, หวาน, อร่อย...</td>\n",
              "      <td>0.997291</td>\n",
              "    </tr>\n",
              "  </tbody>\n",
              "</table>\n",
              "</div>"
            ],
            "text/plain": [
              "                                           Restaurant  ...     score\n",
              "0   Mo-Mo-Paradise (โม โม พาราไดซ์) เดอะมอลล์ บางกะปิ  ...  0.998441\n",
              "1   Mo-Mo-Paradise (โม โม พาราไดซ์) เดอะมอลล์ บางกะปิ  ...  0.997820\n",
              "2   Mo-Mo-Paradise (โม โม พาราไดซ์) เดอะมอลล์ บางกะปิ  ...  0.999161\n",
              "3   Mo-Mo-Paradise (โม โม พาราไดซ์) เดอะมอลล์ บางกะปิ  ...  0.996670\n",
              "4   Mo-Mo-Paradise (โม โม พาราไดซ์) เดอะมอลล์ บางกะปิ  ...  0.997436\n",
              "5   Mo-Mo-Paradise (โม โม พาราไดซ์) เดอะมอลล์ บางกะปิ  ...  0.996964\n",
              "6   Mo-Mo-Paradise (โม โม พาราไดซ์) เดอะมอลล์ บางกะปิ  ...  0.998033\n",
              "7   Mo-Mo-Paradise (โม โม พาราไดซ์) เดอะมอลล์ บางกะปิ  ...  0.998107\n",
              "8           Shabushi (ชาบูชิ) เดอะมอลล์บางกะปิ ชั้น G  ...  0.997053\n",
              "9           Shabushi (ชาบูชิ) เดอะมอลล์บางกะปิ ชั้น G  ...  0.997915\n",
              "10          Shabushi (ชาบูชิ) เดอะมอลล์บางกะปิ ชั้น G  ...  0.996971\n",
              "11          Shabushi (ชาบูชิ) เดอะมอลล์บางกะปิ ชั้น G  ...  0.999489\n",
              "12          Shabushi (ชาบูชิ) เดอะมอลล์บางกะปิ ชั้น G  ...  0.997132\n",
              "13          Shabushi (ชาบูชิ) เดอะมอลล์บางกะปิ ชั้น G  ...  0.997817\n",
              "14          Shabushi (ชาบูชิ) เดอะมอลล์บางกะปิ ชั้น G  ...  0.996699\n",
              "15          Shabushi (ชาบูชิ) เดอะมอลล์บางกะปิ ชั้น G  ...  0.998945\n",
              "16                                      ข้าน้อยขอชาบู  ...  0.998682\n",
              "17                                      ข้าน้อยขอชาบู  ...  0.998268\n",
              "18                                      ข้าน้อยขอชาบู  ...  0.997368\n",
              "19                                      ข้าน้อยขอชาบู  ...  0.997820\n",
              "20                                      ข้าน้อยขอชาบู  ...  0.997291\n",
              "\n",
              "[21 rows x 5 columns]"
            ]
          },
          "metadata": {
            "tags": []
          },
          "execution_count": 57
        }
      ]
    },
    {
      "cell_type": "markdown",
      "metadata": {
        "id": "Qt7i56pJMwbL"
      },
      "source": [
        "Interpretation"
      ]
    },
    {
      "cell_type": "markdown",
      "metadata": {
        "id": "_ZF7a3aqNPDp"
      },
      "source": [
        "พบว่า Topic Name สามารถแบ่งย่อยได้ 5 เรื่อง \n",
        "\n",
        "Topic 0 พูดถึง ดี น้ำ ราคา เนื้อ อาหาร ทาน หวาน อร่อย กิน คุ้ม\n",
        "\n",
        "Topic 1 พูดถึง กิน ดี เนื้อ คน เลือก ทาน น้ำ ราคา อร่อย บาท\n",
        "\n",
        "Topic 2 พูดถึง เนื้อ น้ำ ทาน เลือก ซุป อร่อย ดี หวาน กิน\n",
        "\n",
        "Topic 3 พูดถึง ทาน ดี เนื้อ เลือก ราคา อาหาร น้ำ บาท สาขา อร่อย\n",
        "\n",
        "Topic 4 พูดถึง กิน ดี อาหาร ทาน คน อร่อย เนื้อ สด น้ำ เลือก\n",
        "\n",
        "\n",
        "\n",
        "ดังนั้นแต่ละ Topic ควรชื่อว่า\n",
        "\n",
        "Topic 0 ราคาคุ้ม เนื้อดี อาหารอร่อย \n",
        "\n",
        "Topic 1 ราคาดี เนื้ออร่อย\n",
        "\n",
        "Topic 2 ซุปหวานอร่อย เนื้อดี\n",
        "\n",
        "Topic 3 เนื้อดี อาหารน้ำคุ้มราคา\n",
        "\n",
        "Topic 4 เนื้อสด อาหารดี อร่อย เลือกทานได้"
      ]
    }
  ]
}